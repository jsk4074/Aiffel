{
 "cells": [
  {
   "cell_type": "markdown",
   "source": [
    "# Things you need to cooperate with other developers \n",
    "\n",
    "* [Slack](https://slack.com/)\n",
    "* [Notion](https://www.notion.so/)\n",
    "* [Trello](https://trello.com/)\n",
    "* [Hangout](https://hangouts.google.com/)\n",
    "* [Zoom](https://zoom.us/)\n",
    "* [Google Meet](https://meet.google.com/)\n",
    "\n",
    "## 💡 Keywords\n",
    "* Developer Productivity\n",
    "* Productivity tools for developers\n",
    "* Developer Collaboration\n",
    "* Developer Communication"
   ],
   "metadata": {}
  },
  {
   "cell_type": "markdown",
   "source": [
    "# Github\n",
    "Every computer has different configuration and os so...\n",
    "TLDR is...\n",
    "* one day one commit!\n"
   ],
   "metadata": {}
  },
  {
   "cell_type": "markdown",
   "source": [
    "# Markdown"
   ],
   "metadata": {}
  },
  {
   "cell_type": "markdown",
   "source": [
    "# header <hr>\n",
    "# This is a H1\n",
    "## This is a H2\n",
    "### This is a H3\n",
    "#### This is a H4\n",
    "##### This is a H5\n",
    "###### This is a H6\n",
    "\n",
    "```markdown\n",
    "# This is a H1\n",
    "## This is a H2\n",
    "### This is a H3\n",
    "#### This is a H4\n",
    "##### This is a H5\n",
    "###### This is a H6\n",
    "```"
   ],
   "metadata": {}
  },
  {
   "cell_type": "markdown",
   "source": [
    "# BlockQuote<hr>\n",
    "\n",
    "> This is a first blockqute.\n",
    ">\t> This is a second blockqute.\n",
    ">\t>\t> This is a third blockqute.\n",
    "\n",
    "```\n",
    "> This is a first blockqute.\n",
    ">\t> This is a second blockqute.\n",
    ">\t>\t> This is a third blockqute.\n",
    "```"
   ],
   "metadata": {}
  },
  {
   "cell_type": "markdown",
   "source": [
    "# List <hr>\n",
    "1. one\n",
    "2. two\n",
    "3. three\n",
    "\n",
    "``` \n",
    "1. one\n",
    "2. two\n",
    "3. three\n",
    "```\n",
    "<br><br>\n",
    "\n",
    "\n",
    "* red\n",
    "  * green\n",
    "    * blue\n",
    "\n",
    "+ red\n",
    "  + green\n",
    "    + blue\n",
    "\n",
    "- red\n",
    "  - green\n",
    "    - blue\n",
    "\n",
    "```\n",
    "* red\n",
    "  * green\n",
    "    * blue\n",
    "\n",
    "+ red\n",
    "  + green\n",
    "    + blue\n",
    "\n",
    "- red\n",
    "  - green\n",
    "    - blue\n",
    "```"
   ],
   "metadata": {}
  },
  {
   "cell_type": "markdown",
   "source": [
    "# code block\n",
    "```python\n",
    "print(\"hello world\")\n",
    "```"
   ],
   "metadata": {}
  },
  {
   "cell_type": "markdown",
   "source": [
    "# link\n",
    "[Title](link)\n",
    "```\n",
    "[Title](link)\n",
    "```"
   ],
   "metadata": {}
  },
  {
   "cell_type": "markdown",
   "source": [
    "# image\n",
    "\n",
    "![images](imagedir)\n",
    "```\n",
    "![images](image dir)\n",
    "```"
   ],
   "metadata": {}
  },
  {
   "cell_type": "markdown",
   "source": [],
   "metadata": {}
  },
  {
   "cell_type": "code",
   "execution_count": null,
   "source": [],
   "outputs": [],
   "metadata": {}
  },
  {
   "cell_type": "markdown",
   "source": [],
   "metadata": {}
  }
 ],
 "metadata": {
  "orig_nbformat": 4,
  "language_info": {
   "name": "python"
  }
 },
 "nbformat": 4,
 "nbformat_minor": 2
}