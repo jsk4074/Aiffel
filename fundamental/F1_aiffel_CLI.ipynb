{
 "cells": [
  {
   "cell_type": "markdown",
   "source": [
    "# One step for a man a giant leap for devs....?\n",
    "in this notebook we'll be learning CLI(Command Line Interface)"
   ],
   "metadata": {}
  },
  {
   "cell_type": "code",
   "execution_count": 1,
   "source": [
    "# don't run code bellow.... only run in cli env\n",
    "# ! python3"
   ],
   "outputs": [],
   "metadata": {}
  },
  {
   "cell_type": "code",
   "execution_count": 2,
   "source": [
    "# this CM(command line)is for looking up user name of this computer\n",
    "! whoami # tori is my cat's name...."
   ],
   "outputs": [
    {
     "output_type": "stream",
     "name": "stdout",
     "text": [
      "tori\n"
     ]
    }
   ],
   "metadata": {}
  },
  {
   "cell_type": "code",
   "execution_count": 2,
   "source": [
    "# PWD(Print Working Directory) \n",
    "! pwd"
   ],
   "outputs": [
    {
     "output_type": "stream",
     "name": "stdout",
     "text": [
      "/Users/tori/Desktop/aiffel_git\n"
     ]
    }
   ],
   "metadata": {}
  },
  {
   "cell_type": "code",
   "execution_count": 3,
   "source": [
    "# ls(List)\n",
    "! ls"
   ],
   "outputs": [
    {
     "output_type": "stream",
     "name": "stdout",
     "text": [
      "F0_aiffel_ReadyToGo.ipynb \u001b[34mdata\u001b[m\u001b[m                      \u001b[34mgoing_deeper\u001b[m\u001b[m\n",
      "F1_aiffel_CLI.ipynb       \u001b[34mexploration\u001b[m\u001b[m               package.json\n",
      "README.md                 \u001b[34mfundamental\u001b[m\u001b[m\n"
     ]
    }
   ],
   "metadata": {}
  },
  {
   "cell_type": "code",
   "execution_count": 5,
   "source": [
    "# ls(List) -al (more info and hidden files like git and macfiles...)\n",
    "! ls -al"
   ],
   "outputs": [
    {
     "output_type": "stream",
     "name": "stdout",
     "text": [
      "total 72\n",
      "drwxr-xr-x  13 tori  staff    416 Oct 10 07:19 \u001b[34m.\u001b[m\u001b[m\n",
      "drwx------@  9 tori  staff    288 Oct 10 06:30 \u001b[34m..\u001b[m\u001b[m\n",
      "-rw-r--r--@  1 tori  staff   6148 Oct 10 06:56 .DS_Store\n",
      "drwxr-xr-x  13 tori  staff    416 Oct 10 06:35 \u001b[34m.git\u001b[m\u001b[m\n",
      "-rw-r--r--   1 tori  staff      0 Oct 10 06:33 .gitignore\n",
      "-rw-r--r--   1 tori  staff  17389 Oct 10 07:11 F0_aiffel_ReadyToGo.ipynb\n",
      "-rw-r--r--   1 tori  staff   1709 Oct 10 07:19 F1_aiffel_CLI.ipynb\n",
      "-rw-r--r--   1 tori  staff     11 Oct 10 06:34 README.md\n",
      "drwxr-xr-x   2 tori  staff     64 Oct 10 06:32 \u001b[34mdata\u001b[m\u001b[m\n",
      "drwxr-xr-x   2 tori  staff     64 Oct 10 06:32 \u001b[34mexploration\u001b[m\u001b[m\n",
      "drwxr-xr-x   2 tori  staff     64 Oct 10 06:32 \u001b[34mfundamental\u001b[m\u001b[m\n",
      "drwxr-xr-x   2 tori  staff     64 Oct 10 06:31 \u001b[34mgoing_deeper\u001b[m\u001b[m\n",
      "-rw-r--r--   1 tori  staff      0 Oct 10 06:57 package.json\n"
     ]
    }
   ],
   "metadata": {}
  },
  {
   "cell_type": "code",
   "execution_count": 6,
   "source": [
    "# cd(Change Directory)\n",
    "# !cd (to where)"
   ],
   "outputs": [],
   "metadata": {}
  },
  {
   "cell_type": "code",
   "execution_count": 7,
   "source": [
    "# mkdir (make new folder)\n",
    "! mkdir new_folder\n",
    "! ls"
   ],
   "outputs": [
    {
     "output_type": "stream",
     "name": "stdout",
     "text": [
      "F0_aiffel_ReadyToGo.ipynb \u001b[34mdata\u001b[m\u001b[m                      \u001b[34mgoing_deeper\u001b[m\u001b[m\n",
      "F1_aiffel_CLI.ipynb       \u001b[34mexploration\u001b[m\u001b[m               \u001b[34mnew_folder\u001b[m\u001b[m\n",
      "README.md                 \u001b[34mfundamental\u001b[m\u001b[m               package.json\n"
     ]
    }
   ],
   "metadata": {}
  },
  {
   "cell_type": "code",
   "execution_count": 8,
   "source": [
    "# rm (remove folder or file)\n",
    "! rm -r new_folder\n",
    "! ls"
   ],
   "outputs": [
    {
     "output_type": "stream",
     "name": "stdout",
     "text": [
      "F0_aiffel_ReadyToGo.ipynb \u001b[34mdata\u001b[m\u001b[m                      \u001b[34mgoing_deeper\u001b[m\u001b[m\n",
      "F1_aiffel_CLI.ipynb       \u001b[34mexploration\u001b[m\u001b[m               package.json\n",
      "README.md                 \u001b[34mfundamental\u001b[m\u001b[m\n"
     ]
    }
   ],
   "metadata": {}
  },
  {
   "cell_type": "code",
   "execution_count": 9,
   "source": [
    "# mv (moving folder or files)\n",
    "# ! mv to_be_moved where_to"
   ],
   "outputs": [],
   "metadata": {}
  },
  {
   "cell_type": "markdown",
   "source": [
    "If we have to move or delete file you have to add -r <br>\n",
    "<b>ex) rm -r file_name</b>"
   ],
   "metadata": {}
  },
  {
   "cell_type": "markdown",
   "source": [
    "[conda_cheat_sheet](https://docs.conda.io/projects/conda/en/4.6.0/_downloads/52a95608c49671267e40c689e0bc00ca/conda-cheatsheet.pdf)"
   ],
   "metadata": {}
  },
  {
   "cell_type": "code",
   "execution_count": null,
   "source": [],
   "outputs": [],
   "metadata": {}
  },
  {
   "cell_type": "code",
   "execution_count": null,
   "source": [],
   "outputs": [],
   "metadata": {}
  }
 ],
 "metadata": {
  "orig_nbformat": 4,
  "language_info": {
   "name": "python",
   "version": "3.9.6",
   "mimetype": "text/x-python",
   "codemirror_mode": {
    "name": "ipython",
    "version": 3
   },
   "pygments_lexer": "ipython3",
   "nbconvert_exporter": "python",
   "file_extension": ".py"
  },
  "kernelspec": {
   "name": "python3",
   "display_name": "Python 3.9.6 64-bit (conda)"
  },
  "interpreter": {
   "hash": "6b54b3af666f8e5c2dc669c8ef3177b978f8c03501307a5f4f6e12c6ec833c00"
  }
 },
 "nbformat": 4,
 "nbformat_minor": 2
}