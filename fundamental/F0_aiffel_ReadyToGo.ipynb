{
 "cells": [
  {
   "cell_type": "markdown",
   "source": [
    "# Hello Ubuntu!"
   ],
   "metadata": {}
  },
  {
   "cell_type": "code",
   "execution_count": 1,
   "source": [
    "!pip list"
   ],
   "outputs": [
    {
     "output_type": "stream",
     "name": "stdout",
     "text": [
      "Package                       Version\n",
      "----------------------------- -------------------\n",
      "absl-py                       0.10.0\n",
      "anyio                         3.3.2\n",
      "appdirs                       1.4.4\n",
      "appnope                       0.1.2\n",
      "argon2-cffi                   21.1.0\n",
      "asgiref                       3.4.1\n",
      "astunparse                    1.6.3\n",
      "attrs                         21.2.0\n",
      "Babel                         2.9.1\n",
      "backcall                      0.2.0\n",
      "backports.functools-lru-cache 1.6.4\n",
      "beautifulsoup4                4.6.0\n",
      "bleach                        4.1.0\n",
      "brotlipy                      0.7.0\n",
      "cached-property               1.5.2\n",
      "cachetools                    4.2.2\n",
      "certifi                       2021.5.30\n",
      "cffi                          1.14.6\n",
      "chardet                       4.0.0\n",
      "charset-normalizer            2.0.0\n",
      "click                         7.1.2\n",
      "cloudpickle                   2.0.0\n",
      "colabcode                     0.3.0\n",
      "colorama                      0.4.4\n",
      "common                        0.1.2\n",
      "conda                         4.10.3\n",
      "conda-package-handling        1.7.3\n",
      "cryptography                  3.4.7\n",
      "cycler                        0.10.0\n",
      "Cython                        0.29.24\n",
      "cytoolz                       0.11.0\n",
      "dask                          2021.9.1\n",
      "debugpy                       1.4.1\n",
      "decorator                     5.0.9\n",
      "defusedxml                    0.7.1\n",
      "dill                          0.3.4\n",
      "Django                        3.2.7\n",
      "entrypoints                   0.3\n",
      "Flask                         2.0.1\n",
      "flask-ngrok                   0.0.25\n",
      "flatbuffers                   1.12\n",
      "fsspec                        2021.10.0\n",
      "future                        0.18.2\n",
      "gast                          0.4.0\n",
      "google-auth                   1.34.0\n",
      "google-auth-oauthlib          0.4.5\n",
      "google-pasta                  0.2.0\n",
      "googleapis-common-protos      1.53.0\n",
      "grpcio                        1.34.1\n",
      "h11                           0.12.0\n",
      "h5py                          3.1.0\n",
      "idna                          3.1\n",
      "imagecodecs                   2021.6.8\n",
      "imageio                       2.9.0\n",
      "imgaug                        0.4.0\n",
      "implicit                      0.4.4\n",
      "install                       1.3.4\n",
      "ipykernel                     6.0.3\n",
      "ipython                       7.26.0\n",
      "ipython-genutils              0.2.0\n",
      "itsdangerous                  2.0.1\n",
      "jedi                          0.18.0\n",
      "Jinja2                        3.0.1\n",
      "joblib                        1.0.1\n",
      "JPype1                        1.3.0\n",
      "json5                         0.9.6\n",
      "jsonschema                    4.0.1\n",
      "jupyter-client                6.1.12\n",
      "jupyter-core                  4.7.1\n",
      "jupyter-server                1.11.1\n",
      "jupyterlab                    3.0.7\n",
      "jupyterlab-pygments           0.1.2\n",
      "jupyterlab-server             2.8.2\n",
      "keras-nightly                 2.5.0.dev2021032900\n",
      "Keras-Preprocessing           1.1.2\n",
      "kiwisolver                    1.3.1\n",
      "konlpy                        0.5.2\n",
      "locket                        0.2.0\n",
      "lxml                          4.6.3\n",
      "Markdown                      3.3.4\n",
      "MarkupSafe                    2.0.1\n",
      "matplotlib                    3.4.2\n",
      "matplotlib-inline             0.1.2\n",
      "mistune                       0.8.4\n",
      "nbclassic                     0.3.2\n",
      "nbclient                      0.5.4\n",
      "nbconvert                     6.2.0\n",
      "nbformat                      5.1.3\n",
      "nest-asyncio                  1.4.3\n",
      "networkx                      2.6.3\n",
      "nltk                          3.6.2\n",
      "notebook                      6.4.4\n",
      "numpy                         1.21.2\n",
      "oauthlib                      3.1.1\n",
      "olefile                       0.46\n",
      "opencv-python-headless        4.5.3.56\n",
      "opt-einsum                    3.3.0\n",
      "packaging                     21.0\n",
      "pandas                        1.3.1\n",
      "pandocfilters                 1.5.0\n",
      "parso                         0.8.2\n",
      "partd                         1.2.0\n",
      "patsy                         0.5.1\n",
      "pexpect                       4.8.0\n",
      "pickleshare                   0.7.5\n",
      "Pillow                        8.3.1\n",
      "pip                           21.2.4\n",
      "pooch                         1.5.1\n",
      "prometheus-client             0.11.0\n",
      "promise                       2.3\n",
      "prompt-toolkit                3.0.19\n",
      "protobuf                      3.17.2\n",
      "ptyprocess                    0.7.0\n",
      "pyasn1                        0.4.8\n",
      "pyasn1-modules                0.2.8\n",
      "pycosat                       0.6.3\n",
      "pycparser                     2.20\n",
      "Pygments                      2.9.0\n",
      "pyngrok                       5.1.0\n",
      "pyOpenSSL                     20.0.1\n",
      "pyparsing                     2.4.7\n",
      "pyrsistent                    0.18.0\n",
      "PySocks                       1.7.1\n",
      "python-dateutil               2.8.2\n",
      "pytz                          2021.1\n",
      "PyWavelets                    1.1.1\n",
      "PyYAML                        5.4.1\n",
      "pyzmq                         22.2.1\n",
      "regex                         2021.8.21\n",
      "requests                      2.26.0\n",
      "requests-oauthlib             1.3.0\n",
      "requests-unixsocket           0.2.0\n",
      "rsa                           4.7.2\n",
      "ruamel-yaml-conda             0.15.80\n",
      "scikit-image                  0.18.3\n",
      "scikit-learn                  0.24.2\n",
      "scipy                         1.7.0\n",
      "seaborn                       0.11.2\n",
      "Send2Trash                    1.8.0\n",
      "sentencepiece                 0.1.96\n",
      "setuptools                    49.6.0.post20210108\n",
      "Shapely                       1.7.1\n",
      "six                           1.15.0\n",
      "sniffio                       1.2.0\n",
      "sqlparse                      0.4.2\n",
      "statsmodels                   0.12.2\n",
      "summa                         1.2.0\n",
      "tensorboard                   2.6.0\n",
      "tensorboard-data-server       0.6.1\n",
      "tensorboard-plugin-wit        1.8.0\n",
      "tensorflow-datasets           4.4.0\n",
      "tensorflow-estimator          2.5.0\n",
      "tensorflow-macos              2.5.0\n",
      "tensorflow-metadata           1.2.0\n",
      "tensorflow-metal              0.1.2\n",
      "termcolor                     1.1.0\n",
      "terminado                     0.12.1\n",
      "testpath                      0.5.0\n",
      "threadpoolctl                 2.2.0\n",
      "tifffile                      2021.8.30\n",
      "toolz                         0.11.1\n",
      "tornado                       6.1\n",
      "tqdm                          4.62.0\n",
      "traitlets                     5.0.5\n",
      "tweepy                        3.10.0\n",
      "typing-extensions             3.7.4.3\n",
      "urllib3                       1.26.6\n",
      "uvicorn                       0.13.1\n",
      "wcwidth                       0.2.5\n",
      "webencodings                  0.5.1\n",
      "websocket-client              1.2.1\n",
      "Werkzeug                      2.0.1\n",
      "wheel                         0.35.1\n",
      "whl                           0.0.1\n",
      "wordcloud                     1.8.1\n",
      "wrapt                         1.12.1\n"
     ]
    }
   ],
   "metadata": {}
  },
  {
   "cell_type": "code",
   "execution_count": 2,
   "source": [
    "# for nvidia GPU I'm currently on m1 mac\n",
    "# !nvidia-smi\n",
    "from tensorflow.python.client import device_lib\n",
    "device_lib.list_local_devices()"
   ],
   "outputs": [
    {
     "output_type": "stream",
     "name": "stdout",
     "text": [
      "Init Plugin\n"
     ]
    },
    {
     "output_type": "stream",
     "name": "stderr",
     "text": [
      "2021-10-10 07:01:16.132621: I tensorflow/core/common_runtime/pluggable_device/pluggable_device_factory.cc:305] Could not identify NUMA node of platform GPU ID 0, defaulting to 0. Your kernel may not have been built with NUMA support.\n",
      "2021-10-10 07:01:16.133072: I tensorflow/core/common_runtime/pluggable_device/pluggable_device_factory.cc:271] Created TensorFlow device (/device:GPU:0 with 0 MB memory) -> physical PluggableDevice (device: 0, name: METAL, pci bus id: <undefined>)\n"
     ]
    },
    {
     "output_type": "execute_result",
     "data": {
      "text/plain": [
       "[name: \"/device:CPU:0\"\n",
       " device_type: \"CPU\"\n",
       " memory_limit: 268435456\n",
       " locality {\n",
       " }\n",
       " incarnation: 3340414090820286240,\n",
       " name: \"/device:GPU:0\"\n",
       " device_type: \"GPU\"\n",
       " locality {\n",
       "   bus_id: 1\n",
       " }\n",
       " incarnation: 1901872401784788831\n",
       " physical_device_desc: \"device: 0, name: METAL, pci bus id: <undefined>\"]"
      ]
     },
     "metadata": {},
     "execution_count": 2
    },
    {
     "output_type": "stream",
     "name": "stdout",
     "text": [
      "Init Graph Optimizer\n",
      "Init Kernel\n",
      "Metal device set to: Apple M1\n",
      "\n",
      "systemMemory: 16.00 GB\n",
      "maxCacheSize: 5.33 GB\n",
      "\n"
     ]
    }
   ],
   "metadata": {}
  },
  {
   "cell_type": "code",
   "execution_count": 4,
   "source": [
    "# run this code to check python is working\n",
    "print(\"hello aiffel!\")"
   ],
   "outputs": [
    {
     "output_type": "stream",
     "name": "stdout",
     "text": [
      "hello aiffel!\n"
     ]
    }
   ],
   "metadata": {}
  },
  {
   "cell_type": "code",
   "execution_count": 5,
   "source": [
    "# this code is for checking tensorflow\n",
    "# simple mnist code\n",
    "import tensorflow as tf\n",
    "from tensorflow import keras\n",
    "import numpy as np\n",
    "import matplotlib.pyplot as plt\n",
    "\n",
    "mnist = keras.datasets.mnist\n",
    "(x_train, y_train), (x_test, y_test) = mnist.load_data()   \n",
    "x_train_norm, x_test_norm = x_train / 255.0, x_test / 255.0\n",
    "x_train_reshaped=x_train_norm.reshape( -1, 28, 28, 1)  \n",
    "x_test_reshaped=x_test_norm.reshape( -1, 28, 28, 1)\n",
    "\n",
    "model=keras.models.Sequential()\n",
    "model.add(keras.layers.Conv2D(16, (3,3), activation='relu', input_shape=(28,28,1)))\n",
    "model.add(keras.layers.MaxPool2D(2,2))\n",
    "model.add(keras.layers.Conv2D(32, (3,3), activation='relu'))\n",
    "model.add(keras.layers.MaxPooling2D((2,2)))\n",
    "model.add(keras.layers.Flatten())\n",
    "model.add(keras.layers.Dense(32, activation='relu'))\n",
    "model.add(keras.layers.Dense(10, activation='softmax'))\n",
    "\n",
    "model.summary()\n",
    "model.compile(optimizer='adam',\n",
    "             loss='sparse_categorical_crossentropy',\n",
    "             metrics=['accuracy'])\n",
    "\n",
    "# 모델 훈련\n",
    "model.fit(x_train_reshaped, y_train, epochs=10)"
   ],
   "outputs": [
    {
     "output_type": "stream",
     "name": "stderr",
     "text": [
      "2021-10-10 07:03:49.013913: I tensorflow/core/common_runtime/pluggable_device/pluggable_device_factory.cc:305] Could not identify NUMA node of platform GPU ID 0, defaulting to 0. Your kernel may not have been built with NUMA support.\n",
      "2021-10-10 07:03:49.013937: I tensorflow/core/common_runtime/pluggable_device/pluggable_device_factory.cc:271] Created TensorFlow device (/job:localhost/replica:0/task:0/device:GPU:0 with 0 MB memory) -> physical PluggableDevice (device: 0, name: METAL, pci bus id: <undefined>)\n"
     ]
    },
    {
     "output_type": "stream",
     "name": "stdout",
     "text": [
      "Model: \"sequential\"\n",
      "_________________________________________________________________\n",
      "Layer (type)                 Output Shape              Param #   \n",
      "=================================================================\n",
      "conv2d (Conv2D)              (None, 26, 26, 16)        160       \n",
      "_________________________________________________________________\n",
      "max_pooling2d (MaxPooling2D) (None, 13, 13, 16)        0         \n",
      "_________________________________________________________________\n",
      "conv2d_1 (Conv2D)            (None, 11, 11, 32)        4640      \n",
      "_________________________________________________________________\n",
      "max_pooling2d_1 (MaxPooling2 (None, 5, 5, 32)          0         \n",
      "_________________________________________________________________\n",
      "flatten (Flatten)            (None, 800)               0         \n",
      "_________________________________________________________________\n",
      "dense (Dense)                (None, 32)                25632     \n",
      "_________________________________________________________________\n",
      "dense_1 (Dense)              (None, 10)                330       \n",
      "=================================================================\n",
      "Total params: 30,762\n",
      "Trainable params: 30,762\n",
      "Non-trainable params: 0\n",
      "_________________________________________________________________\n"
     ]
    },
    {
     "output_type": "stream",
     "name": "stderr",
     "text": [
      "2021-10-10 07:03:49.404838: I tensorflow/compiler/mlir/mlir_graph_optimization_pass.cc:176] None of the MLIR Optimization Passes are enabled (registered 2)\n",
      "2021-10-10 07:03:49.407784: W tensorflow/core/platform/profile_utils/cpu_utils.cc:128] Failed to get CPU frequency: 0 Hz\n",
      "2021-10-10 07:03:49.590534: I tensorflow/core/grappler/optimizers/custom_graph_optimizer_registry.cc:112] Plugin optimizer for device_type GPU is enabled.\n"
     ]
    },
    {
     "output_type": "stream",
     "name": "stdout",
     "text": [
      "Epoch 1/10\n",
      "1875/1875 [==============================] - 11s 5ms/step - loss: 0.1910 - accuracy: 0.9423\n",
      "Epoch 2/10\n",
      "1875/1875 [==============================] - 10s 5ms/step - loss: 0.0626 - accuracy: 0.9810\n",
      "Epoch 3/10\n",
      "1875/1875 [==============================] - 10s 5ms/step - loss: 0.0458 - accuracy: 0.9859\n",
      "Epoch 4/10\n",
      "1875/1875 [==============================] - 10s 5ms/step - loss: 0.0376 - accuracy: 0.9882\n",
      "Epoch 5/10\n",
      "1875/1875 [==============================] - 10s 5ms/step - loss: 0.0304 - accuracy: 0.9901\n",
      "Epoch 6/10\n",
      "1875/1875 [==============================] - 10s 5ms/step - loss: 0.0255 - accuracy: 0.9917\n",
      "Epoch 7/10\n",
      "1875/1875 [==============================] - 10s 5ms/step - loss: 0.0210 - accuracy: 0.9932\n",
      "Epoch 8/10\n",
      "1875/1875 [==============================] - 10s 5ms/step - loss: 0.0176 - accuracy: 0.9942\n",
      "Epoch 9/10\n",
      "1875/1875 [==============================] - 10s 5ms/step - loss: 0.0162 - accuracy: 0.9950\n",
      "Epoch 10/10\n",
      "1875/1875 [==============================] - 10s 5ms/step - loss: 0.0130 - accuracy: 0.9956\n"
     ]
    },
    {
     "output_type": "execute_result",
     "data": {
      "text/plain": [
       "<tensorflow.python.keras.callbacks.History at 0x2b3020820>"
      ]
     },
     "metadata": {},
     "execution_count": 5
    }
   ],
   "metadata": {}
  },
  {
   "cell_type": "code",
   "execution_count": null,
   "source": [],
   "outputs": [],
   "metadata": {}
  }
 ],
 "metadata": {
  "orig_nbformat": 4,
  "language_info": {
   "name": "python",
   "version": "3.9.6",
   "mimetype": "text/x-python",
   "codemirror_mode": {
    "name": "ipython",
    "version": 3
   },
   "pygments_lexer": "ipython3",
   "nbconvert_exporter": "python",
   "file_extension": ".py"
  },
  "kernelspec": {
   "name": "python3",
   "display_name": "Python 3.9.6 64-bit (conda)"
  },
  "interpreter": {
   "hash": "6b54b3af666f8e5c2dc669c8ef3177b978f8c03501307a5f4f6e12c6ec833c00"
  }
 },
 "nbformat": 4,
 "nbformat_minor": 2
}