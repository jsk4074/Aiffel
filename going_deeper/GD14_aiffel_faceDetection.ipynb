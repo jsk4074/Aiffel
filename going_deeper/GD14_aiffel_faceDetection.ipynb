{
 "cells": [
  {
   "cell_type": "markdown",
   "metadata": {},
   "source": [
    "# Dataset \n",
    "we're going to use google's [WIDER FACE](http://shuoyang1213.me/WIDERFACE/index.html) dataset\n",
    "\n",
    "### required data\n",
    "* WIDER Face Training Images [[Google Drive](https://drive.google.com/file/d/15hGDLhsx8bLgLcIRD5DhYt5iBxnjNF1M/view)]\n",
    "* WIDER Face Validation Images [[Google Drive](https://drive.google.com/file/d/1GUCogbp16PMGa39thoMMeWxp7Rp5oM8Q/view)]\n",
    "* WIDER Face Testing Images [[Google Drive](https://drive.google.com/file/d/1HIfDbVEWKmsYKJZm4lchTBDLW5N7dY5T/view)]\n",
    "* Face annotations [[WIDER FACE](http://shuoyang1213.me/WIDERFACE/index.html)]"
   ]
  },
  {
   "cell_type": "markdown",
   "metadata": {},
   "source": [
    "## my data dir :<br>\n",
    "/Users/tori/desktop/workspace/aiffel_git/data/GD14"
   ]
  },
  {
   "cell_type": "code",
   "execution_count": 1,
   "metadata": {},
   "outputs": [
    {
     "name": "stdout",
     "output_type": "stream",
     "text": [
      "Init Plugin\n",
      "Init Graph Optimizer\n",
      "Init Kernel\n",
      "2.6.0\n"
     ]
    }
   ],
   "source": [
    "import os, cv2, time\n",
    "import tensorflow as tf\n",
    "import tqdm\n",
    "import numpy as np\n",
    "import math\n",
    "from itertools import product\n",
    "import matplotlib.pyplot as plt\n",
    "\n",
    "PROJECT_PATH = '/Users/tori/desktop/workspace/aiffel_git/data/GD14'\n",
    "DATA_PATH = os.path.join(PROJECT_PATH, 'widerface')\n",
    "MODEL_PATH = os.path.join(PROJECT_PATH, 'checkpoints')\n",
    "TRAIN_TFRECORD_PATH = os.path.join(PROJECT_PATH, 'dataset', 'train_mask.tfrecord')\n",
    "VALID_TFRECORD_PATH = os.path.join(PROJECT_PATH, 'dataset', 'val_mask.tfrecord')\n",
    "CHECKPOINT_PATH = os.path.join(PROJECT_PATH, 'checkpoints')\n",
    "\n",
    "DATASET_LEN = 12880\n",
    "BATCH_SIZE = 32\n",
    "IMAGE_WIDTH = 320\n",
    "IMAGE_HEIGHT = 256\n",
    "IMAGE_LABELS = ['background', 'face']\n",
    "\n",
    "print(tf.__version__)"
   ]
  },
  {
   "cell_type": "code",
   "execution_count": 2,
   "metadata": {},
   "outputs": [
    {
     "name": "stdout",
     "output_type": "stream",
     "text": [
      "(づ｡◕‿‿◕｡)づ\n"
     ]
    }
   ],
   "source": [
    "# first we're going to check bounding box format\n",
    "def parse_box(data):\n",
    "    x0 = int(data[0])\n",
    "    y0 = int(data[1])\n",
    "    w = int(data[2])\n",
    "    h = int(data[3])\n",
    "    return x0, y0, w, h\n",
    "\n",
    "print('(づ｡◕‿‿◕｡)づ')"
   ]
  },
  {
   "cell_type": "code",
   "execution_count": 3,
   "metadata": {},
   "outputs": [
    {
     "name": "stdout",
     "output_type": "stream",
     "text": [
      "(づ｡◕‿‿◕｡)づ\n"
     ]
    }
   ],
   "source": [
    "def parse_widerface(file):\n",
    "    infos = []\n",
    "    with open(file) as fp:\n",
    "        line = fp.readline()\n",
    "        while line:\n",
    "            n_object = int(fp.readline())\n",
    "            boxes = []\n",
    "            for i in range(n_object):\n",
    "                box = fp.readline().split(' ')\n",
    "                x0, y0, w, h = parse_box(box)\n",
    "                if (w == 0) or (h == 0):\n",
    "                    continue\n",
    "                boxes.append([x0, y0, w, h])\n",
    "            if n_object == 0:\n",
    "                box = fp.readline().split(' ')\n",
    "                x0, y0, w, h = parse_box(box)\n",
    "                boxes.append([x0, y0, w, h])\n",
    "            infos.append((line.strip(), boxes))\n",
    "            line = fp.readline()\n",
    "    return infos\n",
    "\n",
    "print('(づ｡◕‿‿◕｡)づ')"
   ]
  },
  {
   "cell_type": "code",
   "execution_count": 4,
   "metadata": {},
   "outputs": [
    {
     "name": "stdout",
     "output_type": "stream",
     "text": [
      "(づ｡◕‿‿◕｡)づ\n"
     ]
    }
   ],
   "source": [
    "def process_image(image_file):\n",
    "    image_string = tf.io.read_file(image_file)\n",
    "    try:\n",
    "        image_data = tf.image.decode_jpeg(image_string, channels=3)\n",
    "        return 0, image_string, image_data\n",
    "    except tf.errors.InvalidArgumentError:\n",
    "        return 1, image_string, None\n",
    "        \n",
    "print('(づ｡◕‿‿◕｡)づ')"
   ]
  },
  {
   "cell_type": "code",
   "execution_count": 5,
   "metadata": {},
   "outputs": [
    {
     "name": "stdout",
     "output_type": "stream",
     "text": [
      "(づ｡◕‿‿◕｡)づ\n"
     ]
    }
   ],
   "source": [
    "def xywh_to_voc(file_name, boxes, image_data):\n",
    "    shape = image_data.shape\n",
    "    image_info = {}\n",
    "    image_info['filename'] = file_name\n",
    "    image_info['width'] = shape[1]\n",
    "    image_info['height'] = shape[0]\n",
    "    image_info['depth'] = 3\n",
    "\n",
    "    difficult = []\n",
    "    classes = []\n",
    "    xmin, ymin, xmax, ymax = [], [], [], []\n",
    "\n",
    "    for box in boxes:\n",
    "        classes.append(1)\n",
    "        difficult.append(0)\n",
    "        xmin.append(box[0])\n",
    "        ymin.append(box[1])\n",
    "        xmax.append(box[0] + box[2])\n",
    "        ymax.append(box[1] + box[3])\n",
    "    image_info['class'] = classes\n",
    "    image_info['xmin'] = xmin\n",
    "    image_info['ymin'] = ymin\n",
    "    image_info['xmax'] = xmax\n",
    "    image_info['ymax'] = ymax\n",
    "    image_info['difficult'] = difficult\n",
    "\n",
    "    return image_info\n",
    "\n",
    "print('(づ｡◕‿‿◕｡)づ')"
   ]
  },
  {
   "cell_type": "code",
   "execution_count": 6,
   "metadata": {},
   "outputs": [
    {
     "name": "stdout",
     "output_type": "stream",
     "text": [
      "--------------------\n",
      "Metal device set to: Apple M1\n",
      "\n",
      "systemMemory: 16.00 GB\n",
      "maxCacheSize: 5.33 GB\n",
      "\n",
      "{'filename': '/Users/tori/desktop/workspace/aiffel_git/data/GD14/widerface/WIDER_train/images/0--Parade/0_Parade_marchingband_1_849.jpg', 'width': 1024, 'height': 1385, 'depth': 3, 'class': [1], 'xmin': [449], 'ymin': [330], 'xmax': [571], 'ymax': [479], 'difficult': [0]}\n",
      "--------------------\n",
      "{'filename': '/Users/tori/desktop/workspace/aiffel_git/data/GD14/widerface/WIDER_train/images/0--Parade/0_Parade_Parade_0_904.jpg', 'width': 1024, 'height': 1432, 'depth': 3, 'class': [1], 'xmin': [361], 'ymin': [98], 'xmax': [624], 'ymax': [437], 'difficult': [0]}\n",
      "--------------------\n",
      "{'filename': '/Users/tori/desktop/workspace/aiffel_git/data/GD14/widerface/WIDER_train/images/0--Parade/0_Parade_marchingband_1_799.jpg', 'width': 1024, 'height': 768, 'depth': 3, 'class': [1, 1, 1, 1, 1, 1, 1, 1, 1, 1, 1, 1, 1, 1, 1, 1, 1, 1, 1, 1, 1], 'xmin': [78, 78, 113, 134, 163, 201, 182, 245, 304, 328, 389, 406, 436, 522, 643, 653, 793, 535, 29, 3, 20], 'ymin': [221, 238, 212, 260, 250, 218, 266, 279, 265, 295, 281, 293, 290, 328, 320, 224, 337, 311, 220, 232, 215], 'xmax': [85, 92, 124, 149, 177, 211, 197, 263, 320, 344, 406, 427, 458, 543, 666, 670, 816, 551, 40, 14, 32], 'ymax': [229, 255, 227, 275, 267, 230, 283, 294, 282, 315, 300, 314, 307, 346, 342, 249, 367, 328, 235, 247, 231], 'difficult': [0, 0, 0, 0, 0, 0, 0, 0, 0, 0, 0, 0, 0, 0, 0, 0, 0, 0, 0, 0, 0]}\n",
      "--------------------\n",
      "{'filename': '/Users/tori/desktop/workspace/aiffel_git/data/GD14/widerface/WIDER_train/images/0--Parade/0_Parade_marchingband_1_117.jpg', 'width': 1024, 'height': 682, 'depth': 3, 'class': [1, 1, 1, 1, 1, 1, 1, 1, 1], 'xmin': [69, 227, 296, 353, 885, 819, 727, 598, 740], 'ymin': [359, 382, 305, 280, 377, 391, 342, 246, 308], 'xmax': [119, 283, 340, 393, 948, 853, 764, 631, 785], 'ymax': [395, 425, 331, 316, 418, 434, 373, 275, 341], 'difficult': [0, 0, 0, 0, 0, 0, 0, 0, 0]}\n",
      "--------------------\n",
      "{'filename': '/Users/tori/desktop/workspace/aiffel_git/data/GD14/widerface/WIDER_train/images/0--Parade/0_Parade_marchingband_1_778.jpg', 'width': 1024, 'height': 852, 'depth': 3, 'class': [1, 1, 1, 1, 1, 1, 1, 1, 1, 1, 1, 1, 1, 1, 1, 1, 1, 1, 1, 1, 1, 1, 1, 1, 1, 1, 1, 1, 1, 1, 1, 1, 1, 1, 1], 'xmin': [27, 63, 64, 88, 231, 263, 367, 198, 293, 412, 441, 475, 510, 576, 577, 595, 570, 645, 719, 791, 884, 898, 945, 922, 743, 841, 980, 1001, 488, 586, 669, 744, 803, 294, 203], 'ymin': [226, 95, 63, 13, 1, 122, 68, 98, 161, 36, 23, 40, 23, 30, 71, 94, 126, 171, 98, 154, 97, 48, 89, 38, 71, 18, 56, 107, 2, 1, 1, 2, 3, 2, 0], 'xmax': [60, 79, 81, 104, 244, 277, 382, 213, 345, 426, 458, 489, 524, 592, 593, 611, 583, 697, 730, 845, 900, 913, 960, 937, 754, 857, 993, 1015, 500, 601, 681, 762, 821, 305, 216], 'ymax': [262, 114, 81, 28, 14, 142, 91, 116, 220, 56, 36, 61, 40, 45, 92, 114, 142, 229, 113, 203, 118, 69, 109, 54, 89, 34, 76, 120, 20, 18, 16, 17, 20, 12, 14], 'difficult': [0, 0, 0, 0, 0, 0, 0, 0, 0, 0, 0, 0, 0, 0, 0, 0, 0, 0, 0, 0, 0, 0, 0, 0, 0, 0, 0, 0, 0, 0, 0, 0, 0, 0, 0]}\n"
     ]
    },
    {
     "name": "stderr",
     "output_type": "stream",
     "text": [
      "2021-11-04 17:19:01.949923: I tensorflow/core/common_runtime/pluggable_device/pluggable_device_factory.cc:305] Could not identify NUMA node of platform GPU ID 0, defaulting to 0. Your kernel may not have been built with NUMA support.\n",
      "2021-11-04 17:19:01.950023: I tensorflow/core/common_runtime/pluggable_device/pluggable_device_factory.cc:271] Created TensorFlow device (/job:localhost/replica:0/task:0/device:GPU:0 with 0 MB memory) -> physical PluggableDevice (device: 0, name: METAL, pci bus id: <undefined>)\n"
     ]
    }
   ],
   "source": [
    "file_path = os.path.join(DATA_PATH, 'wider_face_split', 'wider_face_train_bbx_gt.txt')\n",
    "for i, info in enumerate(parse_widerface(file_path)):\n",
    "    print('--------------------')\n",
    "    image_file = os.path.join(DATA_PATH, 'WIDER_train', 'images', info[0])\n",
    "    _, image_string, image_data = process_image(image_file)\n",
    "    boxes = xywh_to_voc(image_file, info[1], image_data)\n",
    "    print(boxes)\n",
    "    if i > 3:\n",
    "        break"
   ]
  },
  {
   "cell_type": "markdown",
   "metadata": {},
   "source": [
    "# Generate tf_example"
   ]
  },
  {
   "cell_type": "code",
   "execution_count": 7,
   "metadata": {},
   "outputs": [
    {
     "name": "stdout",
     "output_type": "stream",
     "text": [
      "(づ｡◕‿‿◕｡)づ\n"
     ]
    }
   ],
   "source": [
    "# Generate TFRecord\n",
    "\n",
    "def make_example(image_string, image_infos):\n",
    "    for info in image_infos:\n",
    "        filename = info['filename']\n",
    "        width = info['width']\n",
    "        height = info['height']\n",
    "        depth = info['depth']\n",
    "        classes = info['class']\n",
    "        xmin = info['xmin']\n",
    "        ymin = info['ymin']\n",
    "        xmax = info['xmax']\n",
    "        ymax = info['ymax']\n",
    "\n",
    "    if isinstance(image_string, type(tf.constant(0))):\n",
    "        encoded_image = [image_string.numpy()]\n",
    "    else:\n",
    "        encoded_image = [image_string]\n",
    "\n",
    "    base_name = [tf.compat.as_bytes(os.path.basename(filename))]\n",
    "    \n",
    "    example = tf.train.Example(features=tf.train.Features(feature={\n",
    "        'filename':tf.train.Feature(bytes_list=tf.train.BytesList(value=base_name)),\n",
    "        'height':tf.train.Feature(int64_list=tf.train.Int64List(value=[height])),\n",
    "        'width':tf.train.Feature(int64_list=tf.train.Int64List(value=[width])),\n",
    "        'classes':tf.train.Feature(int64_list=tf.train.Int64List(value=classes)),\n",
    "        'x_mins':tf.train.Feature(float_list=tf.train.FloatList(value=xmin)),\n",
    "        'y_mins':tf.train.Feature(float_list=tf.train.FloatList(value=ymin)),\n",
    "        'x_maxes':tf.train.Feature(float_list=tf.train.FloatList(value=xmax)),\n",
    "        'y_maxes':tf.train.Feature(float_list=tf.train.FloatList(value=ymax)),\n",
    "        'image_raw':tf.train.Feature(bytes_list=tf.train.BytesList(value=encoded_image))\n",
    "    }))\n",
    "    \n",
    "    return example\n",
    "\n",
    "print('(づ｡◕‿‿◕｡)づ')"
   ]
  },
  {
   "cell_type": "markdown",
   "metadata": {},
   "source": [
    "$ mkdir -p ~/aiffel/face_detector/assets\n",
    "$ mkdir -p ~/aiffel/face_detector/dataset\n",
    "$ mkdir -p ~/aiffel/face_detector/checkpoints"
   ]
  },
  {
   "cell_type": "code",
   "execution_count": 10,
   "metadata": {},
   "outputs": [
    {
     "name": "stderr",
     "output_type": "stream",
     "text": [
      "100%|██████████| 12880/12880 [01:15<00:00, 170.60it/s]\n",
      "100%|██████████| 3226/3226 [00:18<00:00, 170.84it/s]\n"
     ]
    }
   ],
   "source": [
    "for split in ['train', 'val']:\n",
    "    if split == 'train':\n",
    "        output_file = TRAIN_TFRECORD_PATH \n",
    "        anno_txt = 'wider_face_train_bbx_gt.txt'\n",
    "        file_path = 'WIDER_train'\n",
    "    else:\n",
    "        output_file = VALID_TFRECORD_PATH\n",
    "        anno_txt = 'wider_face_val_bbx_gt.txt'\n",
    "        file_path = 'WIDER_val'\n",
    "\n",
    "    with tf.io.TFRecordWriter(output_file) as writer:\n",
    "        for info in tqdm.tqdm(parse_widerface(os.path.join(DATA_PATH, 'wider_face_split', anno_txt))):\n",
    "            image_file = os.path.join(DATA_PATH, file_path, 'images', info[0])\n",
    "            error, image_string, image_data = process_image(image_file)\n",
    "            boxes = xywh_to_voc(image_file, info[1], image_data)\n",
    "\n",
    "            if not error:\n",
    "                tf_example = make_example(image_string, [boxes])\n",
    "                writer.write(tf_example.SerializeToString())"
   ]
  },
  {
   "cell_type": "code",
   "execution_count": null,
   "metadata": {},
   "outputs": [],
   "source": [
    "# check example file is built\n",
    "! !ls /Users/tori/desktop/workspace/aiffel_git/data/GD14/dataset/dataset"
   ]
  },
  {
   "cell_type": "code",
   "execution_count": 13,
   "metadata": {},
   "outputs": [
    {
     "name": "stdout",
     "output_type": "stream",
     "text": [
      "(づ｡◕‿‿◕｡)づ\n"
     ]
    }
   ],
   "source": [
    "PRIOR_MIN_SIZES = [[10, 16, 24], [32, 48], [64, 96], [128, 192, 256]]\n",
    "PRIOR_STEPS = [8, 16, 32, 64]\n",
    "\n",
    "print('(づ｡◕‿‿◕｡)づ')"
   ]
  },
  {
   "cell_type": "code",
   "execution_count": 14,
   "metadata": {},
   "outputs": [
    {
     "data": {
      "text/plain": [
       "[[32, 40], [16, 20], [8, 10], [4, 5]]"
      ]
     },
     "execution_count": 14,
     "metadata": {},
     "output_type": "execute_result"
    }
   ],
   "source": [
    "image_sizes = (IMAGE_HEIGHT, IMAGE_WIDTH)\n",
    "min_sizes = PRIOR_MIN_SIZES\n",
    "steps= PRIOR_STEPS\n",
    "\n",
    "feature_maps = [\n",
    "    [math.ceil(image_sizes[0] / step), math.ceil(image_sizes[1] / step)]\n",
    "    for step in steps\n",
    "]\n",
    "feature_maps"
   ]
  },
  {
   "cell_type": "code",
   "execution_count": 15,
   "metadata": {},
   "outputs": [
    {
     "data": {
      "text/plain": [
       "18800"
      ]
     },
     "execution_count": 15,
     "metadata": {},
     "output_type": "execute_result"
    }
   ],
   "source": [
    "anchors = []\n",
    "for k, f in enumerate(feature_maps):\n",
    "    for i, j in product(range(f[0]), range(f[1])):\n",
    "        for min_size in min_sizes[k]:\n",
    "            s_kx = min_size / image_sizes[1]\n",
    "            s_ky = min_size / image_sizes[0]\n",
    "            cx = (j + 0.5) * steps[k] / image_sizes[1]\n",
    "            cy = (i + 0.5) * steps[k] / image_sizes[0]\n",
    "            anchors += [cx, cy, s_kx, s_ky]\n",
    "\n",
    "len(anchors)"
   ]
  },
  {
   "cell_type": "code",
   "execution_count": 16,
   "metadata": {},
   "outputs": [
    {
     "name": "stdout",
     "output_type": "stream",
     "text": [
      "(4700, 4)\n",
      "[[0.0125    0.015625  0.03125   0.0390625]\n",
      " [0.0125    0.015625  0.05      0.0625   ]\n",
      " [0.0125    0.015625  0.075     0.09375  ]\n",
      " ...\n",
      " [0.9       0.875     0.4       0.5      ]\n",
      " [0.9       0.875     0.6       0.75     ]\n",
      " [0.9       0.875     0.8       1.       ]]\n"
     ]
    }
   ],
   "source": [
    "boxes = np.asarray(anchors).reshape([-1, 4])\n",
    "print(boxes.shape)\n",
    "print(boxes)"
   ]
  },
  {
   "cell_type": "code",
   "execution_count": 18,
   "metadata": {},
   "outputs": [
    {
     "name": "stdout",
     "output_type": "stream",
     "text": [
      "(づ｡◕‿‿◕｡)づ\n"
     ]
    }
   ],
   "source": [
    "def prior_box():\n",
    "    image_sizes = (IMAGE_HEIGHT, IMAGE_WIDTH)\n",
    "    min_sizes = PRIOR_MIN_SIZES\n",
    "    steps= PRIOR_STEPS\n",
    "    feature_maps = [\n",
    "        [math.ceil(image_sizes[0] / step), math.ceil(image_sizes[1] / step)]\n",
    "        for step in steps\n",
    "    ]\n",
    "    anchors = []\n",
    "    for k, f in enumerate(feature_maps):\n",
    "        for i, j in product(range(f[0]), range(f[1])):\n",
    "            for min_size in min_sizes[k]:\n",
    "                s_kx = min_size / image_sizes[1]\n",
    "                s_ky = min_size / image_sizes[0]\n",
    "                cx = (j + 0.5) * steps[k] / image_sizes[1]\n",
    "                cy = (i + 0.5) * steps[k] / image_sizes[0]\n",
    "                anchors += [cx, cy, s_kx, s_ky]\n",
    "    boxes = np.asarray(anchors).reshape([-1, 4])\n",
    "    return boxes\n",
    "\n",
    "print('(づ｡◕‿‿◕｡)づ')"
   ]
  },
  {
   "cell_type": "markdown",
   "metadata": {},
   "source": [
    "# Build Model [SSD]"
   ]
  },
  {
   "cell_type": "code",
   "execution_count": 20,
   "metadata": {},
   "outputs": [
    {
     "name": "stdout",
     "output_type": "stream",
     "text": [
      "(づ｡◕‿‿◕｡)づ\n"
     ]
    }
   ],
   "source": [
    "def _conv_block(inputs, filters, kernel=(3, 3), strides=(1, 1)):\n",
    "    block_id = (tf.keras.backend.get_uid())\n",
    "    if strides == (2, 2):\n",
    "        x = tf.keras.layers.ZeroPadding2D(padding=((1, 1), (1, 1)), name='conv_pad_%d' % block_id)(inputs)\n",
    "        x = tf.keras.layers.Conv2D(filters, kernel,\n",
    "                                   padding='valid',\n",
    "                                   use_bias=False,\n",
    "                                   strides=strides,\n",
    "                                   name='conv_%d' % block_id)(x)\n",
    "    else:\n",
    "        x = tf.keras.layers.Conv2D(filters, kernel,\n",
    "                                   padding='same',\n",
    "                                   use_bias=False,\n",
    "                                   strides=strides,\n",
    "                                   name='conv_%d' % block_id)(inputs)\n",
    "    \n",
    "    x = tf.keras.layers.BatchNormalization(name='conv_bn_%d' % block_id)(x)\n",
    "    return tf.keras.layers.ReLU(name='conv_relu_%d' % block_id)(x)\n",
    "\n",
    "print('(づ｡◕‿‿◕｡)づ')"
   ]
  },
  {
   "cell_type": "code",
   "execution_count": 21,
   "metadata": {},
   "outputs": [
    {
     "name": "stdout",
     "output_type": "stream",
     "text": [
      "(づ｡◕‿‿◕｡)づ\n"
     ]
    }
   ],
   "source": [
    "def _depthwise_conv_block(inputs, filters, strides=(1, 1)):\n",
    "    block_id = tf.keras.backend.get_uid()\n",
    "    if strides == (1, 1):\n",
    "        x = inputs\n",
    "    else:\n",
    "        x = tf.keras.layers.ZeroPadding2D(((1, 1), (1, 1)), name='conv_pad_%d' % block_id)(inputs)\n",
    "    x = tf.keras.layers.DepthwiseConv2D((3, 3),\n",
    "                                        padding='same' if strides == (1, 1) else 'valid',\n",
    "                                        strides=strides,\n",
    "                                        use_bias=False,\n",
    "                                        name='conv_dw_%d' % block_id)(x)\n",
    "    x = tf.keras.layers.BatchNormalization(name='conv_dw_%d_bn' % block_id)(x)\n",
    "    x = tf.keras.layers.ReLU(name='conv_dw_%d_relu' % block_id)(x)\n",
    "    x = tf.keras.layers.Conv2D(filters, (1, 1),\n",
    "                               padding='same',\n",
    "                               use_bias=False,\n",
    "                               strides=(1, 1),\n",
    "                               name='conv_pw_%d' % block_id)(x)\n",
    "    x = tf.keras.layers.BatchNormalization(name='conv_pw_%d_bn' % block_id)(x)\n",
    "    return tf.keras.layers.ReLU(name='conv_pw_%d_relu' % block_id)(x)\n",
    "\n",
    "print('(づ｡◕‿‿◕｡)づ')"
   ]
  },
  {
   "cell_type": "code",
   "execution_count": 22,
   "metadata": {},
   "outputs": [
    {
     "name": "stdout",
     "output_type": "stream",
     "text": [
      "(づ｡◕‿‿◕｡)づ\n"
     ]
    }
   ],
   "source": [
    "def _branch_block(inputs, filters):\n",
    "    x = tf.keras.layers.Conv2D(filters, kernel_size=(3, 3), padding='same')(inputs)\n",
    "    x = tf.keras.layers.LeakyReLU()(x)\n",
    "    x = tf.keras.layers.Conv2D(filters, kernel_size=(3, 3), padding='same')(x)\n",
    "    x1 = tf.keras.layers.Conv2D(filters * 2, kernel_size=(3, 3), padding='same')(inputs)\n",
    "    x = tf.keras.layers.Concatenate(axis=-1)([x, x1])\n",
    "    return tf.keras.layers.ReLU()(x)\n",
    "\n",
    "print('(づ｡◕‿‿◕｡)づ')"
   ]
  },
  {
   "cell_type": "code",
   "execution_count": 23,
   "metadata": {},
   "outputs": [
    {
     "name": "stdout",
     "output_type": "stream",
     "text": [
      "(づ｡◕‿‿◕｡)づ\n"
     ]
    }
   ],
   "source": [
    "def _create_head_block(inputs, filters):\n",
    "    x = tf.keras.layers.Conv2D(filters, kernel_size=(3, 3), strides=(1, 1), padding='same')(inputs)\n",
    "    return x\n",
    "\n",
    "print('(づ｡◕‿‿◕｡)づ')"
   ]
  },
  {
   "cell_type": "code",
   "execution_count": 24,
   "metadata": {},
   "outputs": [
    {
     "name": "stdout",
     "output_type": "stream",
     "text": [
      "(づ｡◕‿‿◕｡)づ\n"
     ]
    }
   ],
   "source": [
    "def _compute_heads(inputs, num_class, num_cell):\n",
    "    conf = _create_head_block(inputs, num_cell * num_class)\n",
    "    conf = tf.keras.layers.Reshape((-1, num_class))(conf)\n",
    "    loc = _create_head_block(inputs, num_cell * 4)\n",
    "    loc = tf.keras.layers.Reshape((-1, 4))(loc)\n",
    "    return conf, loc\n",
    "\n",
    "print('(づ｡◕‿‿◕｡)づ')"
   ]
  },
  {
   "cell_type": "code",
   "execution_count": 25,
   "metadata": {},
   "outputs": [
    {
     "name": "stdout",
     "output_type": "stream",
     "text": [
      "(づ｡◕‿‿◕｡)づ\n"
     ]
    }
   ],
   "source": [
    "def SsdModel():\n",
    "    base_channel = 16\n",
    "    num_cells = [3, 2, 2, 3]\n",
    "    num_class = len(IMAGE_LABELS)\n",
    "    \n",
    "    x = inputs = tf.keras.layers.Input(shape=[IMAGE_HEIGHT, IMAGE_WIDTH, 3], name='input_image')\n",
    "\n",
    "    x = _conv_block(x, base_channel, strides=(2, 2))\n",
    "    x = _conv_block(x, base_channel * 2, strides=(1, 1))\n",
    "    x = _conv_block(x, base_channel * 2, strides=(2, 2))\n",
    "    x = _conv_block(x, base_channel * 2, strides=(1, 1))\n",
    "    x = _conv_block(x, base_channel * 4, strides=(2, 2))\n",
    "    x = _conv_block(x, base_channel * 4, strides=(1, 1))\n",
    "    x = _conv_block(x, base_channel * 4, strides=(1, 1))\n",
    "    x = _conv_block(x, base_channel * 4, strides=(1, 1))\n",
    "    x1 = _branch_block(x, base_channel)\n",
    "\n",
    "    x = _conv_block(x, base_channel * 8, strides=(2, 2))\n",
    "    x = _conv_block(x, base_channel * 8, strides=(1, 1))\n",
    "    x = _conv_block(x, base_channel * 8, strides=(1, 1))\n",
    "    x2 = _branch_block(x, base_channel)\n",
    "\n",
    "    x = _depthwise_conv_block(x, base_channel * 16, strides=(2, 2))\n",
    "    x = _depthwise_conv_block(x, base_channel * 16, strides=(1, 1))\n",
    "    x3 = _branch_block(x, base_channel)\n",
    "\n",
    "    x = _depthwise_conv_block(x, base_channel * 16, strides=(2, 2))\n",
    "    x4 = _branch_block(x, base_channel)\n",
    "\n",
    "    extra_layers = [x1, x2, x3, x4]\n",
    "\n",
    "    confs = []\n",
    "    locs = []\n",
    "\n",
    "    for layer, num_cell in zip(extra_layers, num_cells):\n",
    "        conf, loc = _compute_heads(layer, num_class, num_cell)\n",
    "        confs.append(conf)\n",
    "        locs.append(loc)\n",
    "\n",
    "    confs = tf.keras.layers.Concatenate(axis=1, name=\"face_classes\")(confs)\n",
    "    locs = tf.keras.layers.Concatenate(axis=1, name=\"face_boxes\")(locs)\n",
    "\n",
    "    predictions = tf.keras.layers.Concatenate(axis=2, name='predictions')([locs, confs])\n",
    "\n",
    "    model = tf.keras.Model(inputs=inputs, outputs=predictions, name='ssd_model')\n",
    "    return model\n",
    "\n",
    "print('(づ｡◕‿‿◕｡)づ')"
   ]
  },
  {
   "cell_type": "code",
   "execution_count": 26,
   "metadata": {},
   "outputs": [
    {
     "name": "stdout",
     "output_type": "stream",
     "text": [
      "(づ｡◕‿‿◕｡)づ\n"
     ]
    }
   ],
   "source": [
    "def _crop(img, labels, max_loop=250):\n",
    "    shape = tf.shape(img)\n",
    "\n",
    "    def matrix_iof(a, b):\n",
    "        lt = tf.math.maximum(a[:, tf.newaxis, :2], b[:, :2])\n",
    "        rb = tf.math.minimum(a[:, tf.newaxis, 2:], b[:, 2:])\n",
    "\n",
    "        area_i = tf.math.reduce_prod(rb - lt, axis=2) * \\\n",
    "            tf.cast(tf.reduce_all(lt < rb, axis=2), tf.float32)\n",
    "        area_a = tf.math.reduce_prod(a[:, 2:] - a[:, :2], axis=1)\n",
    "        return area_i / tf.math.maximum(area_a[:, tf.newaxis], 1)\n",
    "\n",
    "    def crop_loop_body(i, img, labels):\n",
    "        valid_crop = tf.constant(1, tf.int32)\n",
    "\n",
    "        pre_scale = tf.constant([0.3, 0.45, 0.6, 0.8, 1.0], dtype=tf.float32)\n",
    "        scale = pre_scale[tf.random.uniform([], 0, 5, dtype=tf.int32)]\n",
    "        short_side = tf.cast(tf.minimum(shape[0], shape[1]), tf.float32)\n",
    "        h = w = tf.cast(scale * short_side, tf.int32)\n",
    "        h_offset = tf.random.uniform([], 0, shape[0] - h + 1, dtype=tf.int32)\n",
    "        w_offset = tf.random.uniform([], 0, shape[1] - w + 1, dtype=tf.int32)\n",
    "        roi = tf.stack([w_offset, h_offset, w_offset + w, h_offset + h])\n",
    "        roi = tf.cast(roi, tf.float32)\n",
    "\n",
    "        value = matrix_iof(labels[:, :4], roi[tf.newaxis])\n",
    "        valid_crop = tf.cond(tf.math.reduce_any(value >= 1),\n",
    "                             lambda: valid_crop, lambda: 0)\n",
    "\n",
    "        centers = (labels[:, :2] + labels[:, 2:4]) / 2\n",
    "        mask_a = tf.reduce_all(\n",
    "            tf.math.logical_and(roi[:2] < centers, centers < roi[2:]),\n",
    "            axis=1)\n",
    "        labels_t = tf.boolean_mask(labels, mask_a)\n",
    "        valid_crop = tf.cond(tf.reduce_any(mask_a),\n",
    "                             lambda: valid_crop, lambda: 0)\n",
    "\n",
    "        img_t = img[h_offset:h_offset + h, w_offset:w_offset + w, :]\n",
    "        h_offset = tf.cast(h_offset, tf.float32)\n",
    "        w_offset = tf.cast(w_offset, tf.float32)\n",
    "        labels_t = tf.stack(\n",
    "            [labels_t[:, 0] - w_offset,  labels_t[:, 1] - h_offset,\n",
    "             labels_t[:, 2] - w_offset,  labels_t[:, 3] - h_offset,\n",
    "             labels_t[:, 4]], axis=1)\n",
    "\n",
    "        return tf.cond(valid_crop == 1,\n",
    "                       lambda: (max_loop, img_t, labels_t),\n",
    "                       lambda: (i + 1, img, labels))\n",
    "\n",
    "    _, img, labels = tf.while_loop(\n",
    "        lambda i, img, labels: tf.less(i, max_loop),\n",
    "        crop_loop_body,\n",
    "        [tf.constant(-1), img, labels],\n",
    "        shape_invariants=[tf.TensorShape([]),\n",
    "                          tf.TensorShape([None, None, 3]),\n",
    "                          tf.TensorShape([None, 5])])\n",
    "\n",
    "    return img, labels\n",
    "\n",
    "print('(づ｡◕‿‿◕｡)づ')"
   ]
  },
  {
   "cell_type": "markdown",
   "metadata": {},
   "source": [
    "# Augmentation, Prior"
   ]
  },
  {
   "cell_type": "code",
   "execution_count": 27,
   "metadata": {},
   "outputs": [
    {
     "name": "stdout",
     "output_type": "stream",
     "text": [
      "(づ｡◕‿‿◕｡)づ\n"
     ]
    }
   ],
   "source": [
    "def _crop(img, labels, max_loop=250):\n",
    "    shape = tf.shape(img)\n",
    "\n",
    "    def matrix_iof(a, b):\n",
    "        lt = tf.math.maximum(a[:, tf.newaxis, :2], b[:, :2])\n",
    "        rb = tf.math.minimum(a[:, tf.newaxis, 2:], b[:, 2:])\n",
    "\n",
    "        area_i = tf.math.reduce_prod(rb - lt, axis=2) * \\\n",
    "            tf.cast(tf.reduce_all(lt < rb, axis=2), tf.float32)\n",
    "        area_a = tf.math.reduce_prod(a[:, 2:] - a[:, :2], axis=1)\n",
    "        return area_i / tf.math.maximum(area_a[:, tf.newaxis], 1)\n",
    "\n",
    "    def crop_loop_body(i, img, labels):\n",
    "        valid_crop = tf.constant(1, tf.int32)\n",
    "\n",
    "        pre_scale = tf.constant([0.3, 0.45, 0.6, 0.8, 1.0], dtype=tf.float32)\n",
    "        scale = pre_scale[tf.random.uniform([], 0, 5, dtype=tf.int32)]\n",
    "        short_side = tf.cast(tf.minimum(shape[0], shape[1]), tf.float32)\n",
    "        h = w = tf.cast(scale * short_side, tf.int32)\n",
    "        h_offset = tf.random.uniform([], 0, shape[0] - h + 1, dtype=tf.int32)\n",
    "        w_offset = tf.random.uniform([], 0, shape[1] - w + 1, dtype=tf.int32)\n",
    "        roi = tf.stack([w_offset, h_offset, w_offset + w, h_offset + h])\n",
    "        roi = tf.cast(roi, tf.float32)\n",
    "\n",
    "        value = matrix_iof(labels[:, :4], roi[tf.newaxis])\n",
    "        valid_crop = tf.cond(tf.math.reduce_any(value >= 1),\n",
    "                             lambda: valid_crop, lambda: 0)\n",
    "\n",
    "        centers = (labels[:, :2] + labels[:, 2:4]) / 2\n",
    "        mask_a = tf.reduce_all(\n",
    "            tf.math.logical_and(roi[:2] < centers, centers < roi[2:]),\n",
    "            axis=1)\n",
    "        labels_t = tf.boolean_mask(labels, mask_a)\n",
    "        valid_crop = tf.cond(tf.reduce_any(mask_a),\n",
    "                             lambda: valid_crop, lambda: 0)\n",
    "\n",
    "        img_t = img[h_offset:h_offset + h, w_offset:w_offset + w, :]\n",
    "        h_offset = tf.cast(h_offset, tf.float32)\n",
    "        w_offset = tf.cast(w_offset, tf.float32)\n",
    "        labels_t = tf.stack(\n",
    "            [labels_t[:, 0] - w_offset,  labels_t[:, 1] - h_offset,\n",
    "             labels_t[:, 2] - w_offset,  labels_t[:, 3] - h_offset,\n",
    "             labels_t[:, 4]], axis=1)\n",
    "\n",
    "        return tf.cond(valid_crop == 1,\n",
    "                       lambda: (max_loop, img_t, labels_t),\n",
    "                       lambda: (i + 1, img, labels))\n",
    "\n",
    "    _, img, labels = tf.while_loop(\n",
    "        lambda i, img, labels: tf.less(i, max_loop),\n",
    "        crop_loop_body,\n",
    "        [tf.constant(-1), img, labels],\n",
    "        shape_invariants=[tf.TensorShape([]),\n",
    "                          tf.TensorShape([None, None, 3]),\n",
    "                          tf.TensorShape([None, 5])])\n",
    "\n",
    "    return img, labels\n",
    "\n",
    "print('(づ｡◕‿‿◕｡)づ')"
   ]
  },
  {
   "cell_type": "code",
   "execution_count": 28,
   "metadata": {},
   "outputs": [
    {
     "name": "stdout",
     "output_type": "stream",
     "text": [
      "(づ｡◕‿‿◕｡)づ\n"
     ]
    }
   ],
   "source": [
    "def _resize(img, labels):\n",
    "    w_f = tf.cast(tf.shape(img)[1], tf.float32)\n",
    "    h_f = tf.cast(tf.shape(img)[0], tf.float32)\n",
    "    locs = tf.stack([labels[:, 0] / w_f,  labels[:, 1] / h_f,\n",
    "                     labels[:, 2] / w_f,  labels[:, 3] / h_f] ,axis=1)\n",
    "    locs = tf.clip_by_value(locs, 0, 1.0)\n",
    "    labels = tf.concat([locs, labels[:, 4][:, tf.newaxis]], axis=1)\n",
    "\n",
    "    resize_case = tf.random.uniform([], 0, 5, dtype=tf.int32)\n",
    "\n",
    "    def resize(method):\n",
    "        def _resize():\n",
    "            #　size h,w\n",
    "            return tf.image.resize(img, [IMAGE_HEIGHT, IMAGE_WIDTH], method=method, antialias=True)\n",
    "        return _resize\n",
    "\n",
    "    img = tf.case([(tf.equal(resize_case, 0), resize('bicubic')),\n",
    "                   (tf.equal(resize_case, 1), resize('area')),\n",
    "                   (tf.equal(resize_case, 2), resize('nearest')),\n",
    "                   (tf.equal(resize_case, 3), resize('lanczos3'))],\n",
    "                  default=resize('bilinear'))\n",
    "\n",
    "    return img, labels\n",
    "\n",
    "print('(づ｡◕‿‿◕｡)づ')"
   ]
  },
  {
   "cell_type": "code",
   "execution_count": 29,
   "metadata": {},
   "outputs": [
    {
     "name": "stdout",
     "output_type": "stream",
     "text": [
      "(づ｡◕‿‿◕｡)づ\n"
     ]
    }
   ],
   "source": [
    "def _flip(img, labels):\n",
    "    flip_case = tf.random.uniform([], 0, 2, dtype=tf.int32)\n",
    "\n",
    "    def flip_func():\n",
    "        flip_img = tf.image.flip_left_right(img)\n",
    "        flip_labels = tf.stack([1 - labels[:, 2],  labels[:, 1],\n",
    "                                1 - labels[:, 0],  labels[:, 3],\n",
    "                                labels[:, 4]], axis=1)\n",
    "\n",
    "        return flip_img, flip_labels\n",
    "\n",
    "    img, labels = tf.case([(tf.equal(flip_case, 0), flip_func)],default=lambda: (img, labels))\n",
    "\n",
    "    return img, labels\n",
    "\n",
    "print('(づ｡◕‿‿◕｡)づ')"
   ]
  },
  {
   "cell_type": "code",
   "execution_count": 30,
   "metadata": {},
   "outputs": [
    {
     "name": "stdout",
     "output_type": "stream",
     "text": [
      "(づ｡◕‿‿◕｡)づ\n"
     ]
    }
   ],
   "source": [
    "def _pad_to_square(img):\n",
    "    height = tf.shape(img)[0]\n",
    "    width = tf.shape(img)[1]\n",
    "\n",
    "    def pad_h():\n",
    "        img_pad_h = tf.ones([width - height, width, 3]) * tf.reduce_mean(img, axis=[0, 1], keepdims=True)\n",
    "        return tf.concat([img, img_pad_h], axis=0)\n",
    "\n",
    "    def pad_w():\n",
    "        img_pad_w = tf.ones([height, height - width, 3]) * tf.reduce_mean(img, axis=[0, 1], keepdims=True)\n",
    "        return tf.concat([img, img_pad_w], axis=1)\n",
    "\n",
    "    img = tf.case([(tf.greater(height, width), pad_w),\n",
    "                   (tf.less(height, width), pad_h)], default=lambda: img)\n",
    "    return img\n",
    "\n",
    "print('(づ｡◕‿‿◕｡)づ')"
   ]
  },
  {
   "cell_type": "markdown",
   "metadata": {},
   "source": [
    "## Prior box"
   ]
  },
  {
   "cell_type": "code",
   "execution_count": 31,
   "metadata": {},
   "outputs": [
    {
     "name": "stdout",
     "output_type": "stream",
     "text": [
      "(づ｡◕‿‿◕｡)づ\n"
     ]
    }
   ],
   "source": [
    "def _distort(img):\n",
    "    img = tf.image.random_brightness(img, 0.4)\n",
    "    img = tf.image.random_contrast(img, 0.5, 1.5)\n",
    "    img = tf.image.random_saturation(img, 0.5, 1.5)\n",
    "    img = tf.image.random_hue(img, 0.1)\n",
    "\n",
    "    return img\n",
    "\n",
    "print('(づ｡◕‿‿◕｡)づ')"
   ]
  },
  {
   "cell_type": "code",
   "execution_count": 32,
   "metadata": {},
   "outputs": [
    {
     "name": "stdout",
     "output_type": "stream",
     "text": [
      "(づ｡◕‿‿◕｡)づ\n"
     ]
    }
   ],
   "source": [
    "def _intersect(box_a, box_b):\n",
    "    A = tf.shape(box_a)[0]\n",
    "    B = tf.shape(box_b)[0]\n",
    "    max_xy = tf.minimum(\n",
    "        tf.broadcast_to(tf.expand_dims(box_a[:, 2:], 1), [A, B, 2]),\n",
    "        tf.broadcast_to(tf.expand_dims(box_b[:, 2:], 0), [A, B, 2]))\n",
    "    min_xy = tf.maximum(\n",
    "        tf.broadcast_to(tf.expand_dims(box_a[:, :2], 1), [A, B, 2]),\n",
    "        tf.broadcast_to(tf.expand_dims(box_b[:, :2], 0), [A, B, 2]))\n",
    "    inter = tf.clip_by_value(max_xy - min_xy, 0.0, 512.0)\n",
    "    return inter[:, :, 0] * inter[:, :, 1]\n",
    "\n",
    "print('(づ｡◕‿‿◕｡)づ')"
   ]
  },
  {
   "cell_type": "code",
   "execution_count": 33,
   "metadata": {},
   "outputs": [
    {
     "name": "stdout",
     "output_type": "stream",
     "text": [
      "(づ｡◕‿‿◕｡)づ\n"
     ]
    }
   ],
   "source": [
    "def _jaccard(box_a, box_b):\n",
    "    inter = _intersect(box_a, box_b)\n",
    "    area_a = tf.broadcast_to(\n",
    "        tf.expand_dims(\n",
    "            (box_a[:, 2] - box_a[:, 0]) * (box_a[:, 3] - box_a[:, 1]), 1),\n",
    "        tf.shape(inter))  # [A,B]\n",
    "    area_b = tf.broadcast_to(\n",
    "        tf.expand_dims(\n",
    "            (box_b[:, 2] - box_b[:, 0]) * (box_b[:, 3] - box_b[:, 1]), 0),\n",
    "        tf.shape(inter))  # [A,B]\n",
    "    union = area_a + area_b - inter\n",
    "    return inter / union  # [A,B]\n",
    "\n",
    "print('(づ｡◕‿‿◕｡)づ')"
   ]
  },
  {
   "cell_type": "code",
   "execution_count": 34,
   "metadata": {},
   "outputs": [
    {
     "name": "stdout",
     "output_type": "stream",
     "text": [
      "(づ｡◕‿‿◕｡)づ\n"
     ]
    }
   ],
   "source": [
    "def _encode_bbox(matched, priors, variances=[0.1, 0.2]):\n",
    "    g_cxcy = (matched[:, :2] + matched[:, 2:]) / 2 - priors[:, :2]\n",
    "    g_cxcy /= (variances[0] * priors[:, 2:])\n",
    "    g_wh = (matched[:, 2:] - matched[:, :2]) / priors[:, 2:]\n",
    "    g_wh = tf.math.log(g_wh) / variances[1]\n",
    "    return tf.concat([g_cxcy, g_wh], 1)\n",
    "\n",
    "print('(づ｡◕‿‿◕｡)づ')"
   ]
  },
  {
   "cell_type": "code",
   "execution_count": 35,
   "metadata": {},
   "outputs": [
    {
     "name": "stdout",
     "output_type": "stream",
     "text": [
      "(づ｡◕‿‿◕｡)づ\n"
     ]
    }
   ],
   "source": [
    "def encode_tf(labels, priors):\n",
    "    match_threshold = 0.45\n",
    "    priors = tf.cast(priors, tf.float32)\n",
    "    bbox = labels[:, :4]\n",
    "    conf = labels[:, -1]\n",
    "   \n",
    "    # jaccard index\n",
    "    overlaps = _jaccard(bbox, priors)\n",
    "    best_prior_overlap = tf.reduce_max(overlaps, 1)\n",
    "    best_prior_idx = tf.argmax(overlaps, 1, tf.int32)\n",
    "\n",
    "    best_truth_overlap = tf.reduce_max(overlaps, 0)\n",
    "    best_truth_idx = tf.argmax(overlaps, 0, tf.int32)\n",
    "\n",
    "    best_truth_overlap = tf.tensor_scatter_nd_update(\n",
    "        best_truth_overlap, tf.expand_dims(best_prior_idx, 1),\n",
    "        tf.ones_like(best_prior_idx, tf.float32) * 2.)\n",
    "    best_truth_idx = tf.tensor_scatter_nd_update(\n",
    "        best_truth_idx, tf.expand_dims(best_prior_idx, 1),\n",
    "        tf.range(tf.size(best_prior_idx), dtype=tf.int32))\n",
    "    # Scale Ground-Truth Boxes   \n",
    "    matches_bbox = tf.gather(bbox, best_truth_idx)  # [num_priors, 4]\n",
    "    loc_t = _encode_bbox(matches_bbox, priors)\n",
    "    conf_t = tf.gather(conf, best_truth_idx)  # [num_priors]\n",
    "    conf_t = tf.where(tf.less(best_truth_overlap, match_threshold), tf.zeros_like(conf_t), conf_t)\n",
    "\n",
    "    return tf.concat([loc_t, conf_t[..., tf.newaxis]], axis=1)\n",
    "\n",
    "print('(づ｡◕‿‿◕｡)づ')"
   ]
  },
  {
   "cell_type": "code",
   "execution_count": 36,
   "metadata": {},
   "outputs": [
    {
     "name": "stdout",
     "output_type": "stream",
     "text": [
      "(づ｡◕‿‿◕｡)づ\n"
     ]
    }
   ],
   "source": [
    "def _transform_data(train, priors):\n",
    "    def transform_data(img, labels):\n",
    "        img = tf.cast(img, tf.float32)\n",
    "        if train:\n",
    "            img, labels = _crop(img, labels)\n",
    "            img = _pad_to_square(img)\n",
    "\n",
    "        img, labels = _resize(img, labels)\n",
    "\n",
    "        if train:\n",
    "            img, labels = _flip(img, labels)\n",
    "\n",
    "        if train:\n",
    "            img = _distort(img)\n",
    "        labels = encode_tf(labels=labels, priors=priors)        \n",
    "        img = img/255.0\n",
    "        return img, labels\n",
    "    return transform_data\n",
    "\n",
    "print('(づ｡◕‿‿◕｡)づ')"
   ]
  },
  {
   "cell_type": "code",
   "execution_count": 37,
   "metadata": {},
   "outputs": [
    {
     "name": "stdout",
     "output_type": "stream",
     "text": [
      "(づ｡◕‿‿◕｡)づ\n"
     ]
    }
   ],
   "source": [
    "def _parse_tfrecord(train, priors):\n",
    "    def parse_tfrecord(tfrecord):\n",
    "        features = {\n",
    "            'filename': tf.io.FixedLenFeature([], tf.string),\n",
    "            'height': tf.io.FixedLenFeature([], tf.int64),\n",
    "            'width': tf.io.FixedLenFeature([], tf.int64),\n",
    "            'classes': tf.io.VarLenFeature(tf.int64),\n",
    "            'x_mins': tf.io.VarLenFeature(tf.float32),\n",
    "            'y_mins': tf.io.VarLenFeature(tf.float32),\n",
    "            'x_maxes': tf.io.VarLenFeature(tf.float32),\n",
    "            'y_maxes': tf.io.VarLenFeature(tf.float32),\n",
    "            'difficult':tf.io.VarLenFeature(tf.int64),\n",
    "            'image_raw': tf.io.FixedLenFeature([], tf.string),\n",
    "           }\n",
    "\n",
    "        parsed_example = tf.io.parse_single_example(tfrecord, features)\n",
    "        img = tf.image.decode_jpeg(parsed_example['image_raw'], channels=3)\n",
    "\n",
    "        width = tf.cast(parsed_example['width'], tf.float32)\n",
    "        height = tf.cast(parsed_example['height'], tf.float32)\n",
    "\n",
    "        labels = tf.sparse.to_dense(parsed_example['classes'])\n",
    "        labels = tf.cast(labels, tf.float32)\n",
    "\n",
    "        labels = tf.stack(\n",
    "            [tf.sparse.to_dense(parsed_example['x_mins']),\n",
    "             tf.sparse.to_dense(parsed_example['y_mins']),\n",
    "             tf.sparse.to_dense(parsed_example['x_maxes']),\n",
    "             tf.sparse.to_dense(parsed_example['y_maxes']),labels], axis=1)\n",
    "\n",
    "        img, labels = _transform_data(train, priors)(img, labels)\n",
    "\n",
    "        return img, labels\n",
    "    return parse_tfrecord\n",
    "\n",
    "print('(づ｡◕‿‿◕｡)づ')"
   ]
  },
  {
   "cell_type": "code",
   "execution_count": 38,
   "metadata": {},
   "outputs": [
    {
     "name": "stdout",
     "output_type": "stream",
     "text": [
      "(づ｡◕‿‿◕｡)づ\n"
     ]
    }
   ],
   "source": [
    "def load_tfrecord_dataset(tfrecord_name, train=True, priors=None, buffer_size=1024):\n",
    "    raw_dataset = tf.data.TFRecordDataset(tfrecord_name)\n",
    "    raw_dataset = raw_dataset.cache()\n",
    "    if train:\n",
    "        raw_dataset = raw_dataset.repeat()\n",
    "        raw_dataset = raw_dataset.shuffle(buffer_size=buffer_size)\n",
    "\n",
    "    dataset = raw_dataset.map(_parse_tfrecord(train, priors), num_parallel_calls=tf.data.experimental.AUTOTUNE)\n",
    "    dataset = dataset.batch(BATCH_SIZE, drop_remainder=True)\n",
    "    dataset = dataset.prefetch(buffer_size=tf.data.experimental.AUTOTUNE)\n",
    "    return dataset\n",
    "\n",
    "print('(づ｡◕‿‿◕｡)づ')"
   ]
  },
  {
   "cell_type": "code",
   "execution_count": 39,
   "metadata": {},
   "outputs": [
    {
     "name": "stdout",
     "output_type": "stream",
     "text": [
      "(づ｡◕‿‿◕｡)づ\n"
     ]
    }
   ],
   "source": [
    "def load_dataset(priors, train=True, buffer_size=1024):\n",
    "    if train:\n",
    "        dataset = load_tfrecord_dataset(\n",
    "            tfrecord_name=TRAIN_TFRECORD_PATH,\n",
    "            train=train,\n",
    "            priors=priors,\n",
    "            buffer_size=buffer_size)\n",
    "    else:\n",
    "        dataset = load_tfrecord_dataset(\n",
    "            tfrecord_name=VALID_TFRECORD_PATH,\n",
    "            train=train,\n",
    "            priors=priors,\n",
    "            buffer_size=buffer_size)\n",
    "    return dataset\n",
    "\n",
    "print('(づ｡◕‿‿◕｡)づ')"
   ]
  },
  {
   "cell_type": "markdown",
   "metadata": {},
   "source": [
    "# Train"
   ]
  },
  {
   "cell_type": "code",
   "execution_count": 41,
   "metadata": {},
   "outputs": [
    {
     "name": "stdout",
     "output_type": "stream",
     "text": [
      "(づ｡◕‿‿◕｡)づ\n"
     ]
    }
   ],
   "source": [
    "class PiecewiseConstantWarmUpDecay(tf.keras.optimizers.schedules.LearningRateSchedule):\n",
    "    def __init__(self, boundaries, values, warmup_steps, min_lr, name=None):\n",
    "        super(PiecewiseConstantWarmUpDecay, self).__init__()\n",
    "\n",
    "        if len(boundaries) != len(values) - 1:\n",
    "            raise ValueError(\n",
    "                    \"The length of boundaries should be 1 less than the\"\n",
    "                    \"length of values\")\n",
    "\n",
    "        self.boundaries = boundaries\n",
    "        self.values = values\n",
    "        self.name = name\n",
    "        self.warmup_steps = warmup_steps\n",
    "        self.min_lr = min_lr\n",
    "\n",
    "    def __call__(self, step):\n",
    "        with tf.name_scope(self.name or \"PiecewiseConstantWarmUp\"):\n",
    "            step = tf.cast(tf.convert_to_tensor(step), tf.float32)\n",
    "            pred_fn_pairs = []\n",
    "            warmup_steps = self.warmup_steps\n",
    "            boundaries = self.boundaries\n",
    "            values = self.values\n",
    "            min_lr = self.min_lr\n",
    "\n",
    "            pred_fn_pairs.append(\n",
    "                (step <= warmup_steps,\n",
    "                 lambda: min_lr + step * (values[0] - min_lr) / warmup_steps))\n",
    "            pred_fn_pairs.append(\n",
    "                (tf.logical_and(step <= boundaries[0],\n",
    "                                step > warmup_steps),\n",
    "                 lambda: tf.constant(values[0])))\n",
    "            pred_fn_pairs.append(\n",
    "                (step > boundaries[-1], lambda: tf.constant(values[-1])))\n",
    "\n",
    "            for low, high, v in zip(boundaries[:-1], boundaries[1:],\n",
    "                                    values[1:-1]):\n",
    "                pred = (step > low) & (step <= high)\n",
    "                pred_fn_pairs.append((pred, lambda: tf.constant(v)))\n",
    "\n",
    "            return tf.case(pred_fn_pairs, lambda: tf.constant(values[0]),\n",
    "                           exclusive=True)\n",
    "\n",
    "print('(づ｡◕‿‿◕｡)づ')"
   ]
  },
  {
   "cell_type": "code",
   "execution_count": 42,
   "metadata": {},
   "outputs": [
    {
     "name": "stdout",
     "output_type": "stream",
     "text": [
      "(づ｡◕‿‿◕｡)づ\n"
     ]
    }
   ],
   "source": [
    "def MultiStepWarmUpLR(initial_learning_rate, lr_steps, lr_rate,\n",
    "                      warmup_steps=0., min_lr=0.,\n",
    "                      name='MultiStepWarmUpLR'):\n",
    "    assert warmup_steps <= lr_steps[0]\n",
    "    assert min_lr <= initial_learning_rate\n",
    "    lr_steps_value = [initial_learning_rate]\n",
    "    for _ in range(len(lr_steps)):\n",
    "        lr_steps_value.append(lr_steps_value[-1] * lr_rate)\n",
    "    return PiecewiseConstantWarmUpDecay(\n",
    "        boundaries=lr_steps, values=lr_steps_value, warmup_steps=warmup_steps,\n",
    "        min_lr=min_lr)\n",
    "\n",
    "print('(づ｡◕‿‿◕｡)づ')"
   ]
  },
  {
   "cell_type": "markdown",
   "metadata": {},
   "source": [
    "## Hard negative mining\n"
   ]
  },
  {
   "cell_type": "code",
   "execution_count": 44,
   "metadata": {},
   "outputs": [
    {
     "name": "stdout",
     "output_type": "stream",
     "text": [
      "(づ｡◕‿‿◕｡)づ\n"
     ]
    }
   ],
   "source": [
    "def hard_negative_mining(loss, class_truth, neg_ratio):\n",
    "    pos_idx = class_truth > 0\n",
    "    num_pos = tf.math.reduce_sum(tf.cast(pos_idx, tf.int32), axis=1)\n",
    "    num_neg = num_pos * neg_ratio\n",
    "\n",
    "    rank = tf.argsort(loss, axis=1, direction='DESCENDING')\n",
    "    rank = tf.argsort(rank, axis=1)\n",
    "    neg_idx = rank < tf.expand_dims(num_neg, 1)\n",
    "\n",
    "    return pos_idx, neg_idx\n",
    "\n",
    "print('(づ｡◕‿‿◕｡)づ')"
   ]
  },
  {
   "cell_type": "code",
   "execution_count": 45,
   "metadata": {},
   "outputs": [
    {
     "name": "stdout",
     "output_type": "stream",
     "text": [
      "(づ｡◕‿‿◕｡)づ\n"
     ]
    }
   ],
   "source": [
    "def MultiBoxLoss(num_class, neg_pos_ratio=3.0):\n",
    "    def multi_loss(y_true, y_pred):\n",
    "        num_batch = tf.shape(y_true)[0]\n",
    "        num_prior = tf.shape(y_true)[1]\n",
    "        loc_pred, class_pred = y_pred[..., :4], y_pred[..., 4:]\n",
    "        loc_truth, class_truth = y_true[..., :4], tf.squeeze(y_true[..., 4:])\n",
    "\n",
    "        cross_entropy = tf.keras.losses.SparseCategoricalCrossentropy(from_logits=True, reduction='none')\n",
    "        temp_loss = cross_entropy(class_truth, class_pred)\n",
    "        pos_idx, neg_idx = hard_negative_mining(temp_loss, class_truth, neg_pos_ratio)\n",
    "\n",
    "        cross_entropy = tf.keras.losses.SparseCategoricalCrossentropy(from_logits=True, reduction='sum')\n",
    "        loss_class = cross_entropy(\n",
    "            class_truth[tf.math.logical_or(pos_idx, neg_idx)],\n",
    "            class_pred[tf.math.logical_or(pos_idx, neg_idx)])\n",
    "        \n",
    "        smooth_l1_loss = tf.keras.losses.Huber(reduction='sum')\n",
    "        loss_loc = smooth_l1_loss(loc_truth[pos_idx],loc_pred[pos_idx])\n",
    "\n",
    "        num_pos = tf.math.reduce_sum(tf.cast(pos_idx, tf.float32))\n",
    "\n",
    "        loss_class = loss_class / num_pos\n",
    "        loss_loc = loss_loc / num_pos\n",
    "        return loss_loc, loss_class\n",
    "\n",
    "    return multi_loss\n",
    "\n",
    "print('(づ｡◕‿‿◕｡)づ')"
   ]
  },
  {
   "cell_type": "markdown",
   "metadata": {},
   "source": [
    "## Training"
   ]
  },
  {
   "cell_type": "code",
   "execution_count": 46,
   "metadata": {},
   "outputs": [
    {
     "name": "stdout",
     "output_type": "stream",
     "text": [
      "(づ｡◕‿‿◕｡)づ\n"
     ]
    }
   ],
   "source": [
    "priors = prior_box()\n",
    "train_dataset = load_dataset(priors, train=True)\n",
    "\n",
    "print('(づ｡◕‿‿◕｡)づ')"
   ]
  },
  {
   "cell_type": "code",
   "execution_count": 48,
   "metadata": {},
   "outputs": [
    {
     "name": "stdout",
     "output_type": "stream",
     "text": [
      "Model: \"ssd_model\"\n",
      "__________________________________________________________________________________________________\n",
      "Layer (type)                    Output Shape         Param #     Connected to                     \n",
      "==================================================================================================\n",
      "input_image (InputLayer)        [(None, 256, 320, 3) 0                                            \n",
      "__________________________________________________________________________________________________\n",
      "conv_pad_15 (ZeroPadding2D)     (None, 258, 322, 3)  0           input_image[0][0]                \n",
      "__________________________________________________________________________________________________\n",
      "conv_15 (Conv2D)                (None, 128, 160, 16) 432         conv_pad_15[0][0]                \n",
      "__________________________________________________________________________________________________\n",
      "conv_bn_15 (BatchNormalization) (None, 128, 160, 16) 64          conv_15[0][0]                    \n",
      "__________________________________________________________________________________________________\n",
      "conv_relu_15 (ReLU)             (None, 128, 160, 16) 0           conv_bn_15[0][0]                 \n",
      "__________________________________________________________________________________________________\n",
      "conv_16 (Conv2D)                (None, 128, 160, 32) 4608        conv_relu_15[0][0]               \n",
      "__________________________________________________________________________________________________\n",
      "conv_bn_16 (BatchNormalization) (None, 128, 160, 32) 128         conv_16[0][0]                    \n",
      "__________________________________________________________________________________________________\n",
      "conv_relu_16 (ReLU)             (None, 128, 160, 32) 0           conv_bn_16[0][0]                 \n",
      "__________________________________________________________________________________________________\n",
      "conv_pad_17 (ZeroPadding2D)     (None, 130, 162, 32) 0           conv_relu_16[0][0]               \n",
      "__________________________________________________________________________________________________\n",
      "conv_17 (Conv2D)                (None, 64, 80, 32)   9216        conv_pad_17[0][0]                \n",
      "__________________________________________________________________________________________________\n",
      "conv_bn_17 (BatchNormalization) (None, 64, 80, 32)   128         conv_17[0][0]                    \n",
      "__________________________________________________________________________________________________\n",
      "conv_relu_17 (ReLU)             (None, 64, 80, 32)   0           conv_bn_17[0][0]                 \n",
      "__________________________________________________________________________________________________\n",
      "conv_18 (Conv2D)                (None, 64, 80, 32)   9216        conv_relu_17[0][0]               \n",
      "__________________________________________________________________________________________________\n",
      "conv_bn_18 (BatchNormalization) (None, 64, 80, 32)   128         conv_18[0][0]                    \n",
      "__________________________________________________________________________________________________\n",
      "conv_relu_18 (ReLU)             (None, 64, 80, 32)   0           conv_bn_18[0][0]                 \n",
      "__________________________________________________________________________________________________\n",
      "conv_pad_19 (ZeroPadding2D)     (None, 66, 82, 32)   0           conv_relu_18[0][0]               \n",
      "__________________________________________________________________________________________________\n",
      "conv_19 (Conv2D)                (None, 32, 40, 64)   18432       conv_pad_19[0][0]                \n",
      "__________________________________________________________________________________________________\n",
      "conv_bn_19 (BatchNormalization) (None, 32, 40, 64)   256         conv_19[0][0]                    \n",
      "__________________________________________________________________________________________________\n",
      "conv_relu_19 (ReLU)             (None, 32, 40, 64)   0           conv_bn_19[0][0]                 \n",
      "__________________________________________________________________________________________________\n",
      "conv_20 (Conv2D)                (None, 32, 40, 64)   36864       conv_relu_19[0][0]               \n",
      "__________________________________________________________________________________________________\n",
      "conv_bn_20 (BatchNormalization) (None, 32, 40, 64)   256         conv_20[0][0]                    \n",
      "__________________________________________________________________________________________________\n",
      "conv_relu_20 (ReLU)             (None, 32, 40, 64)   0           conv_bn_20[0][0]                 \n",
      "__________________________________________________________________________________________________\n",
      "conv_21 (Conv2D)                (None, 32, 40, 64)   36864       conv_relu_20[0][0]               \n",
      "__________________________________________________________________________________________________\n",
      "conv_bn_21 (BatchNormalization) (None, 32, 40, 64)   256         conv_21[0][0]                    \n",
      "__________________________________________________________________________________________________\n",
      "conv_relu_21 (ReLU)             (None, 32, 40, 64)   0           conv_bn_21[0][0]                 \n",
      "__________________________________________________________________________________________________\n",
      "conv_22 (Conv2D)                (None, 32, 40, 64)   36864       conv_relu_21[0][0]               \n",
      "__________________________________________________________________________________________________\n",
      "conv_bn_22 (BatchNormalization) (None, 32, 40, 64)   256         conv_22[0][0]                    \n",
      "__________________________________________________________________________________________________\n",
      "conv_relu_22 (ReLU)             (None, 32, 40, 64)   0           conv_bn_22[0][0]                 \n",
      "__________________________________________________________________________________________________\n",
      "conv_pad_23 (ZeroPadding2D)     (None, 34, 42, 64)   0           conv_relu_22[0][0]               \n",
      "__________________________________________________________________________________________________\n",
      "conv_23 (Conv2D)                (None, 16, 20, 128)  73728       conv_pad_23[0][0]                \n",
      "__________________________________________________________________________________________________\n",
      "conv_bn_23 (BatchNormalization) (None, 16, 20, 128)  512         conv_23[0][0]                    \n",
      "__________________________________________________________________________________________________\n",
      "conv_relu_23 (ReLU)             (None, 16, 20, 128)  0           conv_bn_23[0][0]                 \n",
      "__________________________________________________________________________________________________\n",
      "conv_24 (Conv2D)                (None, 16, 20, 128)  147456      conv_relu_23[0][0]               \n",
      "__________________________________________________________________________________________________\n",
      "conv_bn_24 (BatchNormalization) (None, 16, 20, 128)  512         conv_24[0][0]                    \n",
      "__________________________________________________________________________________________________\n",
      "conv_relu_24 (ReLU)             (None, 16, 20, 128)  0           conv_bn_24[0][0]                 \n",
      "__________________________________________________________________________________________________\n",
      "conv_25 (Conv2D)                (None, 16, 20, 128)  147456      conv_relu_24[0][0]               \n",
      "__________________________________________________________________________________________________\n",
      "conv_bn_25 (BatchNormalization) (None, 16, 20, 128)  512         conv_25[0][0]                    \n",
      "__________________________________________________________________________________________________\n",
      "conv_relu_25 (ReLU)             (None, 16, 20, 128)  0           conv_bn_25[0][0]                 \n",
      "__________________________________________________________________________________________________\n",
      "conv_pad_26 (ZeroPadding2D)     (None, 18, 22, 128)  0           conv_relu_25[0][0]               \n",
      "__________________________________________________________________________________________________\n",
      "conv_dw_26 (DepthwiseConv2D)    (None, 8, 10, 128)   1152        conv_pad_26[0][0]                \n",
      "__________________________________________________________________________________________________\n",
      "conv_dw_26_bn (BatchNormalizati (None, 8, 10, 128)   512         conv_dw_26[0][0]                 \n",
      "__________________________________________________________________________________________________\n",
      "conv_dw_26_relu (ReLU)          (None, 8, 10, 128)   0           conv_dw_26_bn[0][0]              \n",
      "__________________________________________________________________________________________________\n",
      "conv_pw_26 (Conv2D)             (None, 8, 10, 256)   32768       conv_dw_26_relu[0][0]            \n",
      "__________________________________________________________________________________________________\n",
      "conv_pw_26_bn (BatchNormalizati (None, 8, 10, 256)   1024        conv_pw_26[0][0]                 \n",
      "__________________________________________________________________________________________________\n",
      "conv_pw_26_relu (ReLU)          (None, 8, 10, 256)   0           conv_pw_26_bn[0][0]              \n",
      "__________________________________________________________________________________________________\n",
      "conv_dw_27 (DepthwiseConv2D)    (None, 8, 10, 256)   2304        conv_pw_26_relu[0][0]            \n",
      "__________________________________________________________________________________________________\n",
      "conv_dw_27_bn (BatchNormalizati (None, 8, 10, 256)   1024        conv_dw_27[0][0]                 \n",
      "__________________________________________________________________________________________________\n",
      "conv_dw_27_relu (ReLU)          (None, 8, 10, 256)   0           conv_dw_27_bn[0][0]              \n",
      "__________________________________________________________________________________________________\n",
      "conv_pw_27 (Conv2D)             (None, 8, 10, 256)   65536       conv_dw_27_relu[0][0]            \n",
      "__________________________________________________________________________________________________\n",
      "conv_pw_27_bn (BatchNormalizati (None, 8, 10, 256)   1024        conv_pw_27[0][0]                 \n",
      "__________________________________________________________________________________________________\n",
      "conv_pw_27_relu (ReLU)          (None, 8, 10, 256)   0           conv_pw_27_bn[0][0]              \n",
      "__________________________________________________________________________________________________\n",
      "conv_pad_28 (ZeroPadding2D)     (None, 10, 12, 256)  0           conv_pw_27_relu[0][0]            \n",
      "__________________________________________________________________________________________________\n",
      "conv_dw_28 (DepthwiseConv2D)    (None, 4, 5, 256)    2304        conv_pad_28[0][0]                \n",
      "__________________________________________________________________________________________________\n",
      "conv_dw_28_bn (BatchNormalizati (None, 4, 5, 256)    1024        conv_dw_28[0][0]                 \n",
      "__________________________________________________________________________________________________\n",
      "conv_dw_28_relu (ReLU)          (None, 4, 5, 256)    0           conv_dw_28_bn[0][0]              \n",
      "__________________________________________________________________________________________________\n",
      "conv_pw_28 (Conv2D)             (None, 4, 5, 256)    65536       conv_dw_28_relu[0][0]            \n",
      "__________________________________________________________________________________________________\n",
      "conv_pw_28_bn (BatchNormalizati (None, 4, 5, 256)    1024        conv_pw_28[0][0]                 \n",
      "__________________________________________________________________________________________________\n",
      "conv_pw_28_relu (ReLU)          (None, 4, 5, 256)    0           conv_pw_28_bn[0][0]              \n",
      "__________________________________________________________________________________________________\n",
      "conv2d_20 (Conv2D)              (None, 32, 40, 16)   9232        conv_relu_22[0][0]               \n",
      "__________________________________________________________________________________________________\n",
      "conv2d_23 (Conv2D)              (None, 16, 20, 16)   18448       conv_relu_25[0][0]               \n",
      "__________________________________________________________________________________________________\n",
      "conv2d_26 (Conv2D)              (None, 8, 10, 16)    36880       conv_pw_27_relu[0][0]            \n",
      "__________________________________________________________________________________________________\n",
      "conv2d_29 (Conv2D)              (None, 4, 5, 16)     36880       conv_pw_28_relu[0][0]            \n",
      "__________________________________________________________________________________________________\n",
      "leaky_re_lu_4 (LeakyReLU)       (None, 32, 40, 16)   0           conv2d_20[0][0]                  \n",
      "__________________________________________________________________________________________________\n",
      "leaky_re_lu_5 (LeakyReLU)       (None, 16, 20, 16)   0           conv2d_23[0][0]                  \n",
      "__________________________________________________________________________________________________\n",
      "leaky_re_lu_6 (LeakyReLU)       (None, 8, 10, 16)    0           conv2d_26[0][0]                  \n",
      "__________________________________________________________________________________________________\n",
      "leaky_re_lu_7 (LeakyReLU)       (None, 4, 5, 16)     0           conv2d_29[0][0]                  \n",
      "__________________________________________________________________________________________________\n",
      "conv2d_21 (Conv2D)              (None, 32, 40, 16)   2320        leaky_re_lu_4[0][0]              \n",
      "__________________________________________________________________________________________________\n",
      "conv2d_22 (Conv2D)              (None, 32, 40, 32)   18464       conv_relu_22[0][0]               \n",
      "__________________________________________________________________________________________________\n",
      "conv2d_24 (Conv2D)              (None, 16, 20, 16)   2320        leaky_re_lu_5[0][0]              \n",
      "__________________________________________________________________________________________________\n",
      "conv2d_25 (Conv2D)              (None, 16, 20, 32)   36896       conv_relu_25[0][0]               \n",
      "__________________________________________________________________________________________________\n",
      "conv2d_27 (Conv2D)              (None, 8, 10, 16)    2320        leaky_re_lu_6[0][0]              \n",
      "__________________________________________________________________________________________________\n",
      "conv2d_28 (Conv2D)              (None, 8, 10, 32)    73760       conv_pw_27_relu[0][0]            \n",
      "__________________________________________________________________________________________________\n",
      "conv2d_30 (Conv2D)              (None, 4, 5, 16)     2320        leaky_re_lu_7[0][0]              \n",
      "__________________________________________________________________________________________________\n",
      "conv2d_31 (Conv2D)              (None, 4, 5, 32)     73760       conv_pw_28_relu[0][0]            \n",
      "__________________________________________________________________________________________________\n",
      "concatenate_4 (Concatenate)     (None, 32, 40, 48)   0           conv2d_21[0][0]                  \n",
      "                                                                 conv2d_22[0][0]                  \n",
      "__________________________________________________________________________________________________\n",
      "concatenate_5 (Concatenate)     (None, 16, 20, 48)   0           conv2d_24[0][0]                  \n",
      "                                                                 conv2d_25[0][0]                  \n",
      "__________________________________________________________________________________________________\n",
      "concatenate_6 (Concatenate)     (None, 8, 10, 48)    0           conv2d_27[0][0]                  \n",
      "                                                                 conv2d_28[0][0]                  \n",
      "__________________________________________________________________________________________________\n",
      "concatenate_7 (Concatenate)     (None, 4, 5, 48)     0           conv2d_30[0][0]                  \n",
      "                                                                 conv2d_31[0][0]                  \n",
      "__________________________________________________________________________________________________\n",
      "re_lu_4 (ReLU)                  (None, 32, 40, 48)   0           concatenate_4[0][0]              \n",
      "__________________________________________________________________________________________________\n",
      "re_lu_5 (ReLU)                  (None, 16, 20, 48)   0           concatenate_5[0][0]              \n",
      "__________________________________________________________________________________________________\n",
      "re_lu_6 (ReLU)                  (None, 8, 10, 48)    0           concatenate_6[0][0]              \n",
      "__________________________________________________________________________________________________\n",
      "re_lu_7 (ReLU)                  (None, 4, 5, 48)     0           concatenate_7[0][0]              \n",
      "__________________________________________________________________________________________________\n",
      "conv2d_33 (Conv2D)              (None, 32, 40, 12)   5196        re_lu_4[0][0]                    \n",
      "__________________________________________________________________________________________________\n",
      "conv2d_35 (Conv2D)              (None, 16, 20, 8)    3464        re_lu_5[0][0]                    \n",
      "__________________________________________________________________________________________________\n",
      "conv2d_37 (Conv2D)              (None, 8, 10, 8)     3464        re_lu_6[0][0]                    \n",
      "__________________________________________________________________________________________________\n",
      "conv2d_39 (Conv2D)              (None, 4, 5, 12)     5196        re_lu_7[0][0]                    \n",
      "__________________________________________________________________________________________________\n",
      "conv2d_32 (Conv2D)              (None, 32, 40, 6)    2598        re_lu_4[0][0]                    \n",
      "__________________________________________________________________________________________________\n",
      "conv2d_34 (Conv2D)              (None, 16, 20, 4)    1732        re_lu_5[0][0]                    \n",
      "__________________________________________________________________________________________________\n",
      "conv2d_36 (Conv2D)              (None, 8, 10, 4)     1732        re_lu_6[0][0]                    \n",
      "__________________________________________________________________________________________________\n",
      "conv2d_38 (Conv2D)              (None, 4, 5, 6)      2598        re_lu_7[0][0]                    \n",
      "__________________________________________________________________________________________________\n",
      "reshape_9 (Reshape)             (None, 3840, 4)      0           conv2d_33[0][0]                  \n",
      "__________________________________________________________________________________________________\n",
      "reshape_11 (Reshape)            (None, 640, 4)       0           conv2d_35[0][0]                  \n",
      "__________________________________________________________________________________________________\n",
      "reshape_13 (Reshape)            (None, 160, 4)       0           conv2d_37[0][0]                  \n",
      "__________________________________________________________________________________________________\n",
      "reshape_15 (Reshape)            (None, 60, 4)        0           conv2d_39[0][0]                  \n",
      "__________________________________________________________________________________________________\n",
      "reshape_8 (Reshape)             (None, 3840, 2)      0           conv2d_32[0][0]                  \n",
      "__________________________________________________________________________________________________\n",
      "reshape_10 (Reshape)            (None, 640, 2)       0           conv2d_34[0][0]                  \n",
      "__________________________________________________________________________________________________\n",
      "reshape_12 (Reshape)            (None, 160, 2)       0           conv2d_36[0][0]                  \n",
      "__________________________________________________________________________________________________\n",
      "reshape_14 (Reshape)            (None, 60, 2)        0           conv2d_38[0][0]                  \n",
      "__________________________________________________________________________________________________\n",
      "face_boxes (Concatenate)        (None, 4700, 4)      0           reshape_9[0][0]                  \n",
      "                                                                 reshape_11[0][0]                 \n",
      "                                                                 reshape_13[0][0]                 \n",
      "                                                                 reshape_15[0][0]                 \n",
      "__________________________________________________________________________________________________\n",
      "face_classes (Concatenate)      (None, 4700, 2)      0           reshape_8[0][0]                  \n",
      "                                                                 reshape_10[0][0]                 \n",
      "                                                                 reshape_12[0][0]                 \n",
      "                                                                 reshape_14[0][0]                 \n",
      "__________________________________________________________________________________________________\n",
      "predictions (Concatenate)       (None, 4700, 6)      0           face_boxes[0][0]                 \n",
      "                                                                 face_classes[0][0]               \n",
      "==================================================================================================\n",
      "Total params: 1,038,956\n",
      "Trainable params: 1,034,636\n",
      "Non-trainable params: 4,320\n",
      "__________________________________________________________________________________________________\n",
      "('You must install pydot (`pip install pydot`) and install graphviz (see instructions at https://graphviz.gitlab.io/download/) ', 'for plot_model/model_to_dot to work.')\n"
     ]
    }
   ],
   "source": [
    "# Visualize model \n",
    "# right now plotting on my computer dosent work for some reasos,dfowoifmnwinefni\n",
    "model = SsdModel()\n",
    "model.summary()\n",
    "tf.keras.utils.plot_model(\n",
    "    model, \n",
    "    to_file=os.path.join(os.getcwd(), 'model.png'),\n",
    "    show_shapes=True, \n",
    "    show_layer_names=True\n",
    ")"
   ]
  },
  {
   "cell_type": "code",
   "execution_count": 49,
   "metadata": {},
   "outputs": [
    {
     "name": "stdout",
     "output_type": "stream",
     "text": [
      "(づ｡◕‿‿◕｡)づ\n"
     ]
    }
   ],
   "source": [
    "steps_per_epoch = DATASET_LEN // BATCH_SIZE\n",
    "learning_rate = MultiStepWarmUpLR(\n",
    "    initial_learning_rate=1e-2,\n",
    "    lr_steps=[e*steps_per_epoch for e in [50, 70]],\n",
    "    lr_rate=0.1,\n",
    "    warmup_steps=5*steps_per_epoch,\n",
    "    min_lr=1e-4\n",
    ")\n",
    "optimizer = tf.keras.optimizers.SGD(learning_rate=learning_rate, momentum=0.9, nesterov=True)\n",
    "\n",
    "multi_loss = MultiBoxLoss(len(IMAGE_LABELS), neg_pos_ratio=3)\n",
    "\n",
    "print('(づ｡◕‿‿◕｡)づ')"
   ]
  },
  {
   "cell_type": "code",
   "execution_count": 50,
   "metadata": {},
   "outputs": [
    {
     "name": "stdout",
     "output_type": "stream",
     "text": [
      "(づ｡◕‿‿◕｡)づ\n"
     ]
    }
   ],
   "source": [
    "@tf.function\n",
    "def train_step(inputs, labels):\n",
    "    with tf.GradientTape() as tape:\n",
    "        predictions = model(inputs, training=True)\n",
    "        losses = {}\n",
    "        losses['reg'] = tf.reduce_sum(model.losses)  #unused. Init for redefine network\n",
    "        losses['loc'], losses['class'] = multi_loss(labels, predictions)\n",
    "        total_loss = tf.add_n([l for l in losses.values()])\n",
    "\n",
    "    grads = tape.gradient(total_loss, model.trainable_variables)\n",
    "    optimizer.apply_gradients(zip(grads, model.trainable_variables))\n",
    "\n",
    "    return total_loss, losses\n",
    "\n",
    "print('(づ｡◕‿‿◕｡)づ')"
   ]
  },
  {
   "cell_type": "code",
   "execution_count": 53,
   "metadata": {},
   "outputs": [
    {
     "name": "stdout",
     "output_type": "stream",
     "text": [
      "Epoch: 50/50 | Batch 402/402 | Batch time 0.261 || Loss: nan | loc loss:nan | class loss:0.373944 "
     ]
    }
   ],
   "source": [
    "EPOCHS = 50\n",
    "\n",
    "for epoch in range(0, EPOCHS):\n",
    "    for step, (inputs, labels) in enumerate(train_dataset.take(steps_per_epoch)):\n",
    "        load_t0 = time.time()\n",
    "        total_loss, losses = train_step(inputs, labels)\n",
    "        load_t1 = time.time()\n",
    "        batch_time = load_t1 - load_t0\n",
    "        print(f\"\\rEpoch: {epoch + 1}/{EPOCHS} | Batch {step + 1}/{steps_per_epoch} | Batch time {batch_time:.3f} || Loss: {total_loss:.6f} | loc loss:{losses['loc']:.6f} | class loss:{losses['class']:.6f} \",end = '',flush=True)\n",
    "\n",
    "    filepath = os.path.join(CHECKPOINT_PATH, f'weights_epoch_{(epoch + 1):03d}.h5')\n",
    "    model.save_weights(filepath)"
   ]
  },
  {
   "cell_type": "code",
   "execution_count": 54,
   "metadata": {},
   "outputs": [
    {
     "name": "stdout",
     "output_type": "stream",
     "text": [
      "(づ｡◕‿‿◕｡)づ\n"
     ]
    }
   ],
   "source": [
    "def compute_nms(boxes, scores, nms_threshold=0.4, limit=200):\n",
    "    if boxes.shape[0] == 0:\n",
    "        return tf.constant([], dtype=tf.int32)\n",
    "    selected = [0]\n",
    "    idx = tf.argsort(scores, direction='DESCENDING')\n",
    "    idx = idx[:limit]\n",
    "    boxes = tf.gather(boxes, idx)\n",
    "\n",
    "    iou = _jaccard(boxes, boxes)\n",
    "\n",
    "    while True:\n",
    "        row = iou[selected[-1]]\n",
    "        next_indices = row <= nms_threshold\n",
    "\n",
    "        iou = tf.where(\n",
    "            tf.expand_dims(tf.math.logical_not(next_indices), 0),\n",
    "            tf.ones_like(iou, dtype=tf.float32),\n",
    "            iou\n",
    "        )\n",
    "\n",
    "        if not tf.math.reduce_any(next_indices):\n",
    "            break\n",
    "\n",
    "        selected.append(tf.argsort(\n",
    "            tf.dtypes.cast(next_indices, tf.int32), direction='DESCENDING')[0].numpy())\n",
    "\n",
    "    return tf.gather(idx, selected)\n",
    "\n",
    "print('(づ｡◕‿‿◕｡)づ')"
   ]
  },
  {
   "cell_type": "code",
   "execution_count": 55,
   "metadata": {},
   "outputs": [
    {
     "name": "stdout",
     "output_type": "stream",
     "text": [
      "(づ｡◕‿‿◕｡)づ\n"
     ]
    }
   ],
   "source": [
    "def decode_bbox_tf(predicts, priors, variances=[0.1, 0.2]):\n",
    "    centers = priors[:, :2] + predicts[:, :2] * variances[0] * priors[:, 2:]\n",
    "    sides = priors[:, 2:] * tf.math.exp(predicts[:, 2:] * variances[1])\n",
    "    return tf.concat([centers - sides / 2, centers + sides / 2], axis=1)\n",
    "\n",
    "print('(づ｡◕‿‿◕｡)づ')"
   ]
  },
  {
   "cell_type": "code",
   "execution_count": 56,
   "metadata": {},
   "outputs": [
    {
     "name": "stdout",
     "output_type": "stream",
     "text": [
      "(づ｡◕‿‿◕｡)づ\n"
     ]
    }
   ],
   "source": [
    "def parse_predict(predictions, priors):\n",
    "    label_classes = IMAGE_LABELS\n",
    "\n",
    "    bbox_predictions, confidences = tf.split(predictions[0], [4, -1], axis=-1)\n",
    "    boxes = decode_bbox_tf(bbox_predictions, priors)\n",
    "\n",
    "    scores = tf.math.softmax(confidences, axis=-1)\n",
    "\n",
    "    out_boxes = []\n",
    "    out_labels = []\n",
    "    out_scores = []\n",
    "\n",
    "    for c in range(1, len(label_classes)):\n",
    "        cls_scores = scores[:, c]\n",
    "\n",
    "        score_idx = cls_scores > 0.5\n",
    "\n",
    "        cls_boxes = boxes[score_idx]\n",
    "        cls_scores = cls_scores[score_idx]\n",
    "\n",
    "        nms_idx = compute_nms(cls_boxes, cls_scores)\n",
    "\n",
    "        cls_boxes = tf.gather(cls_boxes, nms_idx)\n",
    "        cls_scores = tf.gather(cls_scores, nms_idx)\n",
    "\n",
    "        cls_labels = [c] * cls_boxes.shape[0]\n",
    "\n",
    "        out_boxes.append(cls_boxes)\n",
    "        out_labels.extend(cls_labels)\n",
    "        out_scores.append(cls_scores)\n",
    "\n",
    "    out_boxes = tf.concat(out_boxes, axis=0)\n",
    "    out_scores = tf.concat(out_scores, axis=0)\n",
    "\n",
    "    boxes = tf.clip_by_value(out_boxes, 0.0, 1.0).numpy()\n",
    "    classes = np.array(out_labels)\n",
    "    scores = out_scores.numpy()\n",
    "\n",
    "    return boxes, classes, scores\n",
    "\n",
    "print('(づ｡◕‿‿◕｡)づ')"
   ]
  },
  {
   "cell_type": "code",
   "execution_count": 58,
   "metadata": {},
   "outputs": [
    {
     "name": "stdout",
     "output_type": "stream",
     "text": [
      "(づ｡◕‿‿◕｡)づ\n"
     ]
    }
   ],
   "source": [
    "def pad_input_image(img, max_steps):\n",
    "    img_h, img_w, _ = img.shape\n",
    "\n",
    "    img_pad_h = 0\n",
    "    if img_h % max_steps > 0:\n",
    "        img_pad_h = max_steps - img_h % max_steps\n",
    "\n",
    "    img_pad_w = 0\n",
    "    if img_w % max_steps > 0:\n",
    "        img_pad_w = max_steps - img_w % max_steps\n",
    "\n",
    "    padd_val = np.mean(img, axis=(0, 1)).astype(np.uint8)\n",
    "    img = cv2.copyMakeBorder(img, 0, img_pad_h, 0, img_pad_w,\n",
    "                             cv2.BORDER_CONSTANT, value=padd_val.tolist())\n",
    "    pad_params = (img_h, img_w, img_pad_h, img_pad_w)\n",
    "\n",
    "    return img, pad_params\n",
    "\n",
    "print('(づ｡◕‿‿◕｡)づ')"
   ]
  },
  {
   "cell_type": "code",
   "execution_count": 59,
   "metadata": {},
   "outputs": [
    {
     "name": "stdout",
     "output_type": "stream",
     "text": [
      "(づ｡◕‿‿◕｡)づ\n"
     ]
    }
   ],
   "source": [
    "def recover_pad(boxes, pad_params):\n",
    "    img_h, img_w, img_pad_h, img_pad_w = pad_params\n",
    "    box = np.reshape(boxes[0], [-1, 2, 2]) * [(img_pad_w + img_w) / img_w, (img_pad_h + img_h) / img_h]\n",
    "    boxes[0] = np.reshape(box, [-1, 4])\n",
    "    return boxes\n",
    "\n",
    "print('(づ｡◕‿‿◕｡)づ')"
   ]
  },
  {
   "cell_type": "code",
   "execution_count": 60,
   "metadata": {},
   "outputs": [
    {
     "name": "stdout",
     "output_type": "stream",
     "text": [
      "(づ｡◕‿‿◕｡)づ\n"
     ]
    }
   ],
   "source": [
    "def draw_box_on_face(img, boxes, classes, scores, prior_index, class_list):\n",
    "    img_height = img.shape[0]\n",
    "    img_width = img.shape[1]\n",
    "\n",
    "    x_min = int(boxes[prior_index][0] * img_width)\n",
    "    y_min = int(boxes[prior_index][1] * img_height)\n",
    "    x_max = int(boxes[prior_index][2] * img_width)\n",
    "    y_max = int(boxes[prior_index][3] * img_height)\n",
    "\n",
    "    if classes[prior_index] == 1:\n",
    "        color = (0, 255, 0)\n",
    "    else:\n",
    "        color = (0, 0, 255)\n",
    "    cv2.rectangle(img, (x_min, y_min), (x_max, y_max), color, 2)\n",
    "    \n",
    "    if len(scores) > prior_index :\n",
    "        score = \"{:.4f}\".format(scores[prior_index])\n",
    "        class_name = class_list[classes[prior_index]]\n",
    "        label = '{} {}'.format(class_name, score)\n",
    "        position = (x_min, y_min - 4) \n",
    "        cv2.putText(img, label, position, cv2.FONT_HERSHEY_SIMPLEX, 0.5, (255, 255, 255))\n",
    "\n",
    "print('(づ｡◕‿‿◕｡)づ')"
   ]
  },
  {
   "cell_type": "code",
   "execution_count": 64,
   "metadata": {},
   "outputs": [],
   "source": [
    "def find_face(name):\n",
    "    TEST_IMAGE_PATH = os.path.join(PROJECT_PATH, name)\n",
    "\n",
    "    img_raw = cv2.imread(TEST_IMAGE_PATH)\n",
    "    img_raw = cv2.resize(img_raw, (IMAGE_WIDTH, IMAGE_HEIGHT))\n",
    "    img = np.float32(img_raw.copy())\n",
    "\n",
    "    img = cv2.cvtColor(img, cv2.COLOR_BGR2RGB)\n",
    "    img, pad_params = pad_input_image(img, max_steps=max(PRIOR_STEPS))\n",
    "    img = img / 255.0\n",
    "\n",
    "    priors = prior_box()\n",
    "    priors = tf.cast(priors, tf.float32)\n",
    "\n",
    "    predictions = model.predict(img[np.newaxis, ...])\n",
    "\n",
    "    boxes, labels, scores = parse_predict(predictions, priors)\n",
    "    boxes = recover_pad(boxes, pad_params)\n",
    "\n",
    "    for prior_index in range(len(boxes)):\n",
    "        draw_box_on_face(img_raw, boxes, labels, scores, prior_index, IMAGE_LABELS)\n",
    "\n",
    "    plt.imshow(cv2.cvtColor(img_raw, cv2.COLOR_BGR2RGB))\n",
    "    plt.show()"
   ]
  },
  {
   "cell_type": "code",
   "execution_count": 66,
   "metadata": {},
   "outputs": [
    {
     "data": {
      "image/png": "[encoded data removed]",
      "text/plain": [
       "<Figure size 432x288 with 1 Axes>"
      ]
     },
     "metadata": {
      "needs_background": "light"
     },
     "output_type": "display_data"
    }
   ],
   "source": [
    "find_face('image.jpeg')"
   ]
  },
  {
   "cell_type": "code",
   "execution_count": 67,
   "metadata": {},
   "outputs": [
    {
     "data": {
      "image/png": "[encoded data removed]",
      "text/plain": [
       "<Figure size 432x288 with 1 Axes>"
      ]
     },
     "metadata": {
      "needs_background": "light"
     },
     "output_type": "display_data"
    }
   ],
   "source": [
    "find_face('image2.jpeg')"
   ]
  },
  {
   "cell_type": "code",
   "execution_count": null,
   "metadata": {},
   "outputs": [],
   "source": []
  }
 ],
 "metadata": {
  "interpreter": {
   "hash": "624dfac656ab975afd3f95c512185bd7e848a31e8758a11dbba4881f7f69423a"
  },
  "kernelspec": {
   "display_name": "Python 3.9.7 64-bit ('base': conda)",
   "name": "python3"
  },
  "language_info": {
   "codemirror_mode": {
    "name": "ipython",
    "version": 3
   },
   "file_extension": ".py",
   "mimetype": "text/x-python",
   "name": "python",
   "nbconvert_exporter": "python",
   "pygments_lexer": "ipython3",
   "version": "3.9.7"
  },
  "orig_nbformat": 4
 },
 "nbformat": 4,
 "nbformat_minor": 2
}
